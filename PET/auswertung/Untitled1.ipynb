{
 "cells": [
  {
   "cell_type": "code",
   "execution_count": 23,
   "metadata": {
    "autoscroll": false,
    "collapsed": false,
    "ein.hycell": false,
    "ein.tags": "worksheet-0",
    "slideshow": {
     "slide_type": "-"
    }
   },
   "outputs": [
    {
     "data": {
      "text/plain": [
       "array([0, 4, 8])"
      ]
     },
     "execution_count": 23,
     "metadata": {},
     "output_type": "execute_result"
    }
   ],
   "source": [
    "import numpy as np\n",
    "a = np.arange(9).reshape(3,3)\n",
    "a.diagonal(0)"
   ]
  },
  {
   "cell_type": "code",
   "execution_count": 32,
   "metadata": {
    "autoscroll": false,
    "collapsed": false,
    "ein.hycell": false,
    "ein.tags": "worksheet-0",
    "slideshow": {
     "slide_type": "-"
    }
   },
   "outputs": [],
   "source": [
    "\n",
    "def calc_projection_matrix(source, weights):\n",
    "    proj = np.zeros_like(source)\n",
    "    N = source.shape[0]\n",
    "\n",
    "    # 0 deg\n",
    "    proj[0,:] = np.sum(source, ax=1)\n",
    "\n",
    "    # 90\n",
    "    proj[2,:] = np.sum(source, ax=1)\n",
    "\n",
    "    # diag\n",
    "    proj[1,:] = np.array([np.sum(proj.diagonal(n)) for n in range(-N//2 - 1, N//2 + 1)]) @ weights\n",
    "    source = np.flip(source, 0)\n",
    "    source = np.flip(source, 1)\n",
    "    proj[3,:] = np.array([np.sum(proj.diagonal(n)) for n in range(-N//2 - 1, N//2 + 1)]) @ weights\n"
   ]
  },
  {
   "cell_type": "code",
   "execution_count": 327,
   "metadata": {
    "autoscroll": false,
    "collapsed": false,
    "ein.hycell": false,
    "ein.tags": "worksheet-0",
    "slideshow": {
     "slide_type": "-"
    }
   },
   "outputs": [],
   "source": [
    "weights = np.array([[14,0,0,0,0],\n",
    "[88,1,0,0,0],\n",
    "[39,61,0,0,0],\n",
    "[0,75,25,0,0],\n",
    "[0,4,91,4,0],\n",
    "[0,0,25,75,0],\n",
    "[0,0,0,61,39],\n",
    "[0,0,0,1,88],\n",
    "[0,0,0,0,14]])/100"
   ]
  },
  {
   "cell_type": "code",
   "execution_count": 328,
   "metadata": {
    "autoscroll": false,
    "collapsed": false,
    "ein.hycell": false,
    "ein.tags": "worksheet-0",
    "slideshow": {
     "slide_type": "-"
    }
   },
   "outputs": [],
   "source": [
    "source = np.array([\n",
    "[0,0,0,0,2],\n",
    "[0,9,0,0,0],\n",
    "[0,0,0,0,0],\n",
    "[0,7,0,8,0],\n",
    "[0,0,0,0,0]])"
   ]
  },
  {
   "cell_type": "code",
   "execution_count": 329,
   "metadata": {
    "autoscroll": false,
    "collapsed": false,
    "ein.hycell": false,
    "ein.tags": "worksheet-0",
    "slideshow": {
     "slide_type": "-"
    }
   },
   "outputs": [],
   "source": [
    "def calc_projection_matrix(source, weights):\n",
    "    proj = np.zeros((4, 5))\n",
    "    N = source.shape[0]\n",
    "\n",
    "    # 0\n",
    "    proj[0,:] = np.sum(source, axis=0)\n",
    "\n",
    "    # 90\n",
    "    proj[2,:] = np.flip(np.sum(source, axis=1))\n",
    "\n",
    "    # diag\n",
    "    proj[1,:] = np.array(np.array([np.sum(source.diagonal(n)) for n in range(-N//2 - 1, N//2 + 3)])) @ weights\n",
    "    source = np.flip(source, 0)\n",
    "\n",
    "    proj[3,:] = np.flip([np.sum(source.diagonal(n)) for n in range(-N//2 - 1, N//2 + 3)] @ weights)\n",
    "    return proj\n"
   ]
  },
  {
   "cell_type": "code",
   "execution_count": 396,
   "metadata": {
    "autoscroll": false,
    "collapsed": false,
    "ein.hycell": false,
    "ein.tags": "worksheet-0",
    "slideshow": {
     "slide_type": "-"
    }
   },
   "outputs": [],
   "source": [
    "proj =calc_projection_matrix(source, weights)"
   ]
  },
  {
   "cell_type": "code",
   "execution_count": 402,
   "metadata": {
    "autoscroll": false,
    "collapsed": false,
    "ein.hycell": false,
    "ein.tags": "worksheet-0",
    "slideshow": {
     "slide_type": "-"
    }
   },
   "outputs": [
    {
     "name": "stdout",
     "output_type": "stream",
     "text": [
      "\\begin{pmatrix}\n",
      "  0. & 16. & 0. & 8. & 2.\\\\\n",
      "  2.73 & 4.95 & 15.47 & 0.68 & 0.28\\\\\n",
      "  0. & 15. & 0. & 9. & 2.\\\\\n",
      "  3.12 & 5.24 & 8.19 & 5.85 & 3.51\\\\\n",
      "\\end{pmatrix}\n"
     ]
    }
   ],
   "source": [
    "print(bmatrix(proj))"
   ]
  },
  {
   "cell_type": "code",
   "execution_count": 403,
   "metadata": {
    "autoscroll": false,
    "collapsed": false,
    "ein.hycell": false,
    "ein.tags": "worksheet-0",
    "slideshow": {
     "slide_type": "-"
    }
   },
   "outputs": [],
   "source": [
    "\n",
    "def convolute_projection(proj):\n",
    "    filt = np.array([-.1, .25, -.1])\n",
    "    conv = np.zeros_like(proj)\n",
    "    for row in range(0, proj.shape[0]):\n",
    "        conv[row] = np.convolve(proj[row], filt)[1:-1]\n",
    "    return conv"
   ]
  },
  {
   "cell_type": "code",
   "execution_count": 404,
   "metadata": {
    "autoscroll": false,
    "collapsed": false,
    "ein.hycell": false,
    "ein.tags": "worksheet-0",
    "slideshow": {
     "slide_type": "-"
    }
   },
   "outputs": [],
   "source": [
    "conv = convolute_projection(proj)"
   ]
  },
  {
   "cell_type": "code",
   "execution_count": 405,
   "metadata": {
    "autoscroll": false,
    "collapsed": false,
    "ein.hycell": false,
    "ein.tags": "worksheet-0",
    "slideshow": {
     "slide_type": "-"
    }
   },
   "outputs": [
    {
     "name": "stdout",
     "output_type": "stream",
     "text": [
      "\\begin{pmatrix}\n",
      "  -1.6 & 4. & -2.4 & 1.8 & -0.3\\\\\n",
      "  0.188 & -0.583 & 3.304 & -1.405 & 0.002\\\\\n",
      "  -1.5 & 3.75 & -2.4 & 2.05 & -0.4\\\\\n",
      "  0.256 & 0.179 & 0.938 & 0.293 & 0.292\\\\\n",
      "\\end{pmatrix}\n"
     ]
    }
   ],
   "source": [
    "print(bmatrix(conv))"
   ]
  },
  {
   "cell_type": "code",
   "execution_count": 406,
   "metadata": {
    "autoscroll": false,
    "collapsed": false,
    "ein.hycell": false,
    "ein.tags": "worksheet-0",
    "slideshow": {
     "slide_type": "-"
    }
   },
   "outputs": [],
   "source": [
    "backweights = np.array([\n",
    "    [27, 100, 72, 0, 0, 0, 0, 0, 0],\n",
    "    [0, 1, 93, 99, 7, 0, 0, 0, 0],\n",
    "    [0, 0, 0, 50, 100, 50, 0, 0, 0],\n",
    "    [0, 0, 0, 0, 7, 99, 93, 1, 0],\n",
    "    [0, 0, 0, 0, 0, 0, 73, 100, 27]])/100"
   ]
  },
  {
   "cell_type": "code",
   "execution_count": 407,
   "metadata": {
    "autoscroll": false,
    "collapsed": false,
    "ein.hycell": false,
    "ein.tags": "worksheet-0",
    "slideshow": {
     "slide_type": "-"
    }
   },
   "outputs": [],
   "source": [
    "\n",
    "def reconstruct_diags(proj, weights):\n",
    "   return proj[1] @ weights, proj[3] @ weights\n",
    "   \n",
    "def reproject_diagonal(diag):\n",
    "    N = diag.size\n",
    "    d = int((diag.size + 1)/2)\n",
    "    rep = np.zeros((d, d))\n",
    "\n",
    "    for di, elem in enumerate(diag):\n",
    "        offset = int(d - di) - 1\n",
    "        for i in range(0, d - int(np.abs(offset))):\n",
    "            if offset >= 0:\n",
    "                rep[i + offset][i] = elem\n",
    "            else:\n",
    "                rep[i][i - offset] = elem\n",
    "\n",
    "    return rep\n",
    "\n",
    "def reproject_straight(row):\n",
    "    d = row.size\n",
    "    rep = np.empty((d, d))\n",
    "\n",
    "    for i, elem in enumerate(row):\n",
    "        rep[:, i] = elem\n",
    "    return rep\n",
    "\n",
    "def reconstruct(proj, backweights):\n",
    "    p0, p90 = proj[0], proj[2]  # uuuugly\n",
    "    p45, p135 = reconstruct_diags(proj, backweights)\n",
    "\n",
    "    r0 = reproject_straight(p0)\n",
    "    r90 = np.flip(reproject_straight(p90).T)\n",
    "    r45 = reproject_diagonal(p45)\n",
    "    r135 = np.flip(reproject_diagonal(p135).T, 1)\n",
    "    print(bmatrix(r0))\n",
    "    print(bmatrix(r45))\n",
    "    print(bmatrix(r90))\n",
    "    print(bmatrix(r135))\n",
    "    return r0 + r90 + 1/2*(r45 + r135)\n",
    "        \n",
    "def bmatrix(a, prec=3):\n",
    "    \"\"\"Returns a LaTeX bmatrix\n",
    "\n",
    "    :a: numpy array\n",
    "    :returns: LaTeX bmatrix as a string\n",
    "    \"\"\"\n",
    "    with np.printoptions(precision=prec, suppress=True):\n",
    "        if len(a.shape) > 2:\n",
    "            raise ValueError('bmatrix can at most display two dimensions')\n",
    "        lines = str(a).replace('[', '').replace(']', '').splitlines()\n",
    "        rv = [r'\\begin{pmatrix}']\n",
    "        rv += ['  ' + ' & '.join(l.split()) + r'\\\\' for l in lines]\n",
    "        rv +=  [r'\\end{pmatrix}']\n",
    "        return '\\n'.join(rv)"
   ]
  },
  {
   "cell_type": "code",
   "execution_count": 409,
   "metadata": {
    "autoscroll": false,
    "collapsed": false,
    "ein.hycell": false,
    "ein.tags": "worksheet-0",
    "slideshow": {
     "slide_type": "-"
    }
   },
   "outputs": [
    {
     "name": "stdout",
     "output_type": "stream",
     "text": [
      "\\begin{pmatrix}\n",
      "  0. & 16. & 0. & 8. & 2.\\\\\n",
      "  0. & 16. & 0. & 8. & 2.\\\\\n",
      "  0. & 16. & 0. & 8. & 2.\\\\\n",
      "  0. & 16. & 0. & 8. & 2.\\\\\n",
      "  0. & 16. & 0. & 8. & 2.\\\\\n",
      "\\end{pmatrix}\n",
      "\\begin{pmatrix}\n",
      "  15.864 & 8.408 & 0.837 & 0.287 & 0.076\\\\\n",
      "  12.636 & 15.864 & 8.408 & 0.837 & 0.287\\\\\n",
      "  6.569 & 12.636 & 15.864 & 8.408 & 0.837\\\\\n",
      "  2.78 & 6.569 & 12.636 & 15.864 & 8.408\\\\\n",
      "  0.737 & 2.78 & 6.569 & 12.636 & 15.864\\\\\n",
      "\\end{pmatrix}\n",
      "\\begin{pmatrix}\n",
      "  2. & 2. & 2. & 2. & 2.\\\\\n",
      "  9. & 9. & 9. & 9. & 9.\\\\\n",
      "  0. & 0. & 0. & 0. & 0.\\\\\n",
      "  15. & 15. & 15. & 15. & 15.\\\\\n",
      "  0. & 0. & 0. & 0. & 0.\\\\\n",
      "\\end{pmatrix}\n",
      "\\begin{pmatrix}\n",
      "  0.842 & 3.172 & 7.12 & 9.283 & 8.966\\\\\n",
      "  3.172 & 7.12 & 9.283 & 8.966 & 9.886\\\\\n",
      "  7.12 & 9.283 & 8.966 & 9.886 & 8.003\\\\\n",
      "  9.283 & 8.966 & 9.886 & 8.003 & 3.569\\\\\n",
      "  8.966 & 9.886 & 8.003 & 3.569 & 0.948\\\\\n",
      "\\end{pmatrix}\n",
      "\\begin{pmatrix}\n",
      "  10.353 & 23.79 & 5.978 & 14.785 & 8.521\\\\\n",
      "  16.904 & 36.492 & 17.845 & 21.902 & 16.087\\\\\n",
      "  6.844 & 26.959 & 12.415 & 17.147 & 6.42\\\\\n",
      "  21.031 & 38.768 & 26.261 & 34.933 & 22.988\\\\\n",
      "  4.852 & 22.333 & 7.286 & 16.102 & 10.406\\\\\n",
      "\\end{pmatrix}\n"
     ]
    }
   ],
   "source": [
    "print(bmatrix(reconstruct(proj, backweights)))\n"
   ]
  },
  {
   "cell_type": "code",
   "execution_count": 410,
   "metadata": {
    "autoscroll": false,
    "collapsed": false,
    "ein.hycell": false,
    "ein.tags": "worksheet-0",
    "slideshow": {
     "slide_type": "-"
    }
   },
   "outputs": [
    {
     "name": "stdout",
     "output_type": "stream",
     "text": [
      "\\begin{pmatrix}\n",
      "  -1.6 & 4. & -2.4 & 1.8 & -0.3\\\\\n",
      "  -1.6 & 4. & -2.4 & 1.8 & -0.3\\\\\n",
      "  -1.6 & 4. & -2.4 & 1.8 & -0.3\\\\\n",
      "  -1.6 & 4. & -2.4 & 1.8 & -0.3\\\\\n",
      "  -1.6 & 4. & -2.4 & 1.8 & -0.3\\\\\n",
      "\\end{pmatrix}\n",
      "\\begin{pmatrix}\n",
      "  3.165 & 0.261 & -1.305 & -0.012 & 0.001\\\\\n",
      "  1.076 & 3.165 & 0.261 & -1.305 & -0.012\\\\\n",
      "  -0.407 & 1.076 & 3.165 & 0.261 & -1.305\\\\\n",
      "  0.182 & -0.407 & 1.076 & 3.165 & 0.261\\\\\n",
      "  0.051 & 0.182 & -0.407 & 1.076 & 3.165\\\\\n",
      "\\end{pmatrix}\n",
      "\\begin{pmatrix}\n",
      "  -0.4 & -0.4 & -0.4 & -0.4 & -0.4\\\\\n",
      "  2.05 & 2.05 & 2.05 & 2.05 & 2.05\\\\\n",
      "  -2.4 & -2.4 & -2.4 & -2.4 & -2.4\\\\\n",
      "  3.75 & 3.75 & 3.75 & 3.75 & 3.75\\\\\n",
      "  -1.5 & -1.5 & -1.5 & -1.5 & -1.5\\\\\n",
      "\\end{pmatrix}\n",
      "\\begin{pmatrix}\n",
      "  0.069 & 0.258 & 0.351 & 0.646 & 0.972\\\\\n",
      "  0.258 & 0.351 & 0.646 & 0.972 & 0.759\\\\\n",
      "  0.351 & 0.646 & 0.972 & 0.759 & 0.486\\\\\n",
      "  0.646 & 0.972 & 0.759 & 0.486 & 0.295\\\\\n",
      "  0.972 & 0.759 & 0.486 & 0.295 & 0.079\\\\\n",
      "\\end{pmatrix}\n",
      "\\begin{pmatrix}\n",
      "  -0.383 & 3.86 & -3.277 & 1.717 & -0.214\\\\\n",
      "  1.117 & 7.808 & 0.104 & 3.683 & 2.123\\\\\n",
      "  -4.028 & 2.461 & -2.732 & -0.09 & -3.11\\\\\n",
      "  2.564 & 8.032 & 2.267 & 7.375 & 3.728\\\\\n",
      "  -2.589 & 2.97 & -3.861 & 0.985 & -0.178\\\\\n",
      "\\end{pmatrix}\n"
     ]
    }
   ],
   "source": [
    "print(bmatrix(reconstruct(conv, backweights)))"
   ]
  },
  {
   "cell_type": "code",
   "execution_count": null,
   "metadata": {
    "autoscroll": false,
    "collapsed": false,
    "ein.hycell": false,
    "ein.tags": "worksheet-0",
    "slideshow": {
     "slide_type": "-"
    }
   },
   "outputs": [],
   "source": []
  }
 ],
 "metadata": {
  "kernelspec": {
   "argv": [
    "python",
    "-m",
    "ipykernel_launcher",
    "-f",
    "{connection_file}"
   ],
   "display_name": "Python 3",
   "env": null,
   "interrupt_mode": "signal",
   "language": "python",
   "metadata": null,
   "name": "python3"
  },
  "name": "Untitled1.ipynb"
 },
 "nbformat": 4,
 "nbformat_minor": 2
}
