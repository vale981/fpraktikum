{
 "cells": [
  {
   "cell_type": "code",
   "execution_count": 1,
   "metadata": {
    "autoscroll": false,
    "collapsed": false,
    "ein.hycell": false,
    "ein.tags": "worksheet-0",
    "slideshow": {
     "slide_type": "-"
    }
   },
   "outputs": [],
   "source": [
    "import numpy as np\n",
    "from utility import *"
   ]
  },
  {
   "cell_type": "code",
   "execution_count": 2,
   "metadata": {
    "autoscroll": false,
    "collapsed": false,
    "ein.hycell": false,
    "ein.tags": "worksheet-0",
    "slideshow": {
     "slide_type": "-"
    }
   },
   "outputs": [],
   "source": [
    "weights = np.array([[14,0,0,0,0],\n",
    "[88,1,0,0,0],\n",
    "[39,61,0,0,0],\n",
    "[0,75,25,0,0],\n",
    "[0,4,91,4,0],\n",
    "[0,0,25,75,0],\n",
    "[0,0,0,61,39],\n",
    "[0,0,0,1,88],\n",
    "[0,0,0,0,14]])/100"
   ]
  },
  {
   "cell_type": "code",
   "execution_count": 30,
   "metadata": {
    "autoscroll": false,
    "collapsed": false,
    "ein.hycell": false,
    "ein.tags": "worksheet-0",
    "slideshow": {
     "slide_type": "-"
    }
   },
   "outputs": [],
   "source": [
    "source = np.array([\n",
    "[0,0,0,0,2],\n",
    "[0,9,0,0,0],\n",
    "[0,0,0,0,0],\n",
    "[0,7,0,8,0],\n",
    "[0,0,0,0,0]])"
   ]
  },
  {
   "cell_type": "code",
   "execution_count": 31,
   "metadata": {
    "autoscroll": false,
    "collapsed": false,
    "ein.hycell": false,
    "ein.tags": "worksheet-0",
    "slideshow": {
     "slide_type": "-"
    }
   },
   "outputs": [
    {
     "name": "stdout",
     "output_type": "stream",
     "text": [
      "source \\begin{pmatrix}\n",
      "  0 & 0 & 0 & 0 & 2\\\\\n",
      "  0 & 9 & 0 & 0 & 0\\\\\n",
      "  0 & 0 & 0 & 0 & 0\\\\\n",
      "  0 & 7 & 0 & 8 & 0\\\\\n",
      "  0 & 0 & 0 & 0 & 0\\\\\n",
      "\\end{pmatrix}\n"
     ]
    },
    {
     "data": {
      "text/plain": [
       "(<Figure size 144x144 with 1 Axes>,\n <matplotlib.axes._subplots.AxesSubplot at 0x7f207999d4c0>)"
      ]
     },
     "execution_count": 31,
     "metadata": {},
     "output_type": "execute_result"
    },
    {
     "data": {
      "image/png": "[encoded data removed]",
      "text/plain": [
       "<Figure size 144x144 with 1 Axes>"
      ]
     },
     "metadata": {},
     "output_type": "display_data"
    }
   ],
   "source": [
    "create_matrix_image(source, save=('source', 'theory'))"
   ]
  },
  {
   "cell_type": "code",
   "execution_count": 32,
   "metadata": {
    "autoscroll": false,
    "collapsed": false,
    "ein.hycell": false,
    "ein.tags": "worksheet-0",
    "slideshow": {
     "slide_type": "-"
    }
   },
   "outputs": [],
   "source": [
    "proj = calc_projection_matrix(source, weights)"
   ]
  },
  {
   "cell_type": "code",
   "execution_count": 33,
   "metadata": {
    "autoscroll": false,
    "collapsed": false,
    "ein.hycell": false,
    "ein.tags": "worksheet-0",
    "slideshow": {
     "slide_type": "-"
    }
   },
   "outputs": [
    {
     "name": "stdout",
     "output_type": "stream",
     "text": [
      "projection \\begin{pmatrix}\n",
      "  0. & 16. & 0. & 8. & 2.\\\\\n",
      "  2.73 & 4.95 & 15.47 & 0.68 & 0.28\\\\\n",
      "  0. & 15. & 0. & 9. & 2.\\\\\n",
      "  3.12 & 5.24 & 8.19 & 5.85 & 3.51\\\\\n",
      "\\end{pmatrix}\n"
     ]
    },
    {
     "data": {
      "text/plain": [
       "(<Figure size 144x144 with 1 Axes>,\n <matplotlib.axes._subplots.AxesSubplot at 0x7f20798f2340>)"
      ]
     },
     "execution_count": 33,
     "metadata": {},
     "output_type": "execute_result"
    },
    {
     "data": {
      "image/png": "[encoded data removed]",
      "text/plain": [
       "<Figure size 144x144 with 1 Axes>"
      ]
     },
     "metadata": {},
     "output_type": "display_data"
    }
   ],
   "source": [
    "create_matrix_image(proj, save=('projection', 'theory'))"
   ]
  },
  {
   "cell_type": "code",
   "execution_count": 34,
   "metadata": {
    "autoscroll": false,
    "collapsed": false,
    "ein.hycell": false,
    "ein.tags": "worksheet-0",
    "slideshow": {
     "slide_type": "-"
    }
   },
   "outputs": [],
   "source": [
    "conv = convolute_projection(proj)"
   ]
  },
  {
   "cell_type": "code",
   "execution_count": 35,
   "metadata": {
    "autoscroll": false,
    "collapsed": false,
    "ein.hycell": false,
    "ein.tags": "worksheet-0",
    "slideshow": {
     "slide_type": "-"
    }
   },
   "outputs": [
    {
     "name": "stdout",
     "output_type": "stream",
     "text": [
      "convoluted \\begin{pmatrix}\n",
      "  -1.6 & 4. & -2.4 & 1.8 & -0.3\\\\\n",
      "  0.188 & -0.583 & 3.304 & -1.405 & 0.002\\\\\n",
      "  -1.5 & 3.75 & -2.4 & 2.05 & -0.4\\\\\n",
      "  0.256 & 0.179 & 0.938 & 0.293 & 0.292\\\\\n",
      "\\end{pmatrix}\n"
     ]
    },
    {
     "data": {
      "text/plain": [
       "(<Figure size 144x144 with 1 Axes>,\n <matplotlib.axes._subplots.AxesSubplot at 0x7f20799c7880>)"
      ]
     },
     "execution_count": 35,
     "metadata": {},
     "output_type": "execute_result"
    },
    {
     "data": {
      "image/png": "[encoded data removed]",
      "text/plain": [
       "<Figure size 144x144 with 1 Axes>"
      ]
     },
     "metadata": {},
     "output_type": "display_data"
    }
   ],
   "source": [
    "create_matrix_image(conv, save=('convoluted', 'theory'))"
   ]
  },
  {
   "cell_type": "code",
   "execution_count": 36,
   "metadata": {
    "autoscroll": false,
    "collapsed": false,
    "ein.hycell": false,
    "ein.tags": "worksheet-0",
    "slideshow": {
     "slide_type": "-"
    }
   },
   "outputs": [],
   "source": [
    "backweights = np.array([\n",
    "    [27, 100, 72, 0, 0, 0, 0, 0, 0],\n",
    "    [0, 1, 93, 99, 7, 0, 0, 0, 0],\n",
    "    [0, 0, 0, 50, 100, 50, 0, 0, 0],\n",
    "    [0, 0, 0, 0, 7, 99, 93, 1, 0],\n",
    "    [0, 0, 0, 0, 0, 0, 73, 100, 27]])/100"
   ]
  },
  {
   "cell_type": "code",
   "execution_count": 37,
   "metadata": {
    "autoscroll": false,
    "collapsed": false,
    "ein.hycell": false,
    "ein.tags": "worksheet-0",
    "slideshow": {
     "slide_type": "-"
    }
   },
   "outputs": [
    {
     "name": "stdout",
     "output_type": "stream",
     "text": [
      "Reconstructed Diagonals\n",
      "45 \\begin{pmatrix}\n",
      "  0.737 & 2.78 & 6.569 & 12.636 & 15.864 & 8.408 & 0.837 & 0.287 & 0.076\\\\\n",
      "\\end{pmatrix}\n",
      "135 \\begin{pmatrix}\n",
      "  0.842 & 3.172 & 7.12 & 9.283 & 8.966 & 9.886 & 8.003 & 3.569 & 0.948\\\\\n",
      "\\end{pmatrix}\n",
      "0 \\begin{pmatrix}\n",
      "  0. & 16. & 0. & 8. & 2.\\\\\n",
      "  0. & 16. & 0. & 8. & 2.\\\\\n",
      "  0. & 16. & 0. & 8. & 2.\\\\\n",
      "  0. & 16. & 0. & 8. & 2.\\\\\n",
      "  0. & 16. & 0. & 8. & 2.\\\\\n",
      "\\end{pmatrix}\n",
      "45 \\begin{pmatrix}\n",
      "  15.864 & 8.408 & 0.837 & 0.287 & 0.076\\\\\n",
      "  12.636 & 15.864 & 8.408 & 0.837 & 0.287\\\\\n",
      "  6.569 & 12.636 & 15.864 & 8.408 & 0.837\\\\\n",
      "  2.78 & 6.569 & 12.636 & 15.864 & 8.408\\\\\n",
      "  0.737 & 2.78 & 6.569 & 12.636 & 15.864\\\\\n",
      "\\end{pmatrix}\n",
      "90 \\begin{pmatrix}\n",
      "  2. & 2. & 2. & 2. & 2.\\\\\n",
      "  9. & 9. & 9. & 9. & 9.\\\\\n",
      "  0. & 0. & 0. & 0. & 0.\\\\\n",
      "  15. & 15. & 15. & 15. & 15.\\\\\n",
      "  0. & 0. & 0. & 0. & 0.\\\\\n",
      "\\end{pmatrix}\n",
      "135 \\begin{pmatrix}\n",
      "  0.842 & 3.172 & 7.12 & 9.283 & 8.966\\\\\n",
      "  3.172 & 7.12 & 9.283 & 8.966 & 9.886\\\\\n",
      "  7.12 & 9.283 & 8.966 & 9.886 & 8.003\\\\\n",
      "  9.283 & 8.966 & 9.886 & 8.003 & 3.569\\\\\n",
      "  8.966 & 9.886 & 8.003 & 3.569 & 0.948\\\\\n",
      "\\end{pmatrix}\n"
     ]
    },
    {
     "name": "stdout",
     "output_type": "stream",
     "text": [
      "rec_simple \\begin{pmatrix}\n",
      "  10.353 & 23.79 & 5.978 & 14.785 & 8.521\\\\\n",
      "  16.904 & 36.492 & 17.845 & 21.902 & 16.087\\\\\n",
      "  6.844 & 26.959 & 12.415 & 17.147 & 6.42\\\\\n",
      "  21.031 & 38.768 & 26.261 & 34.933 & 22.988\\\\\n",
      "  4.852 & 22.333 & 7.286 & 16.102 & 10.406\\\\\n",
      "\\end{pmatrix}\n"
     ]
    },
    {
     "data": {
      "text/plain": [
       "(<Figure size 144x144 with 1 Axes>,\n <matplotlib.axes._subplots.AxesSubplot at 0x7f20798a7190>)"
      ]
     },
     "execution_count": 37,
     "metadata": {},
     "output_type": "execute_result"
    },
    {
     "data": {
      "image/png": "[encoded data removed]",
      "text/plain": [
       "<Figure size 144x144 with 1 Axes>"
      ]
     },
     "metadata": {},
     "output_type": "display_data"
    }
   ],
   "source": [
    "create_matrix_image(reconstruct(proj, backweights), save=('rec_simple', 'theory'))"
   ]
  },
  {
   "cell_type": "code",
   "execution_count": 38,
   "metadata": {
    "autoscroll": false,
    "collapsed": false,
    "ein.hycell": false,
    "ein.tags": "worksheet-0",
    "slideshow": {
     "slide_type": "-"
    }
   },
   "outputs": [
    {
     "name": "stdout",
     "output_type": "stream",
     "text": [
      "Reconstructed Diagonals\n",
      "45 \\begin{pmatrix}\n",
      "  0.051 & 0.182 & -0.407 & 1.076 & 3.165 & 0.261 & -1.305 & -0.012 & 0.001\\\\\n",
      "\\end{pmatrix}\n",
      "135 \\begin{pmatrix}\n",
      "  0.069 & 0.258 & 0.351 & 0.646 & 0.972 & 0.759 & 0.486 & 0.295 & 0.079\\\\\n",
      "\\end{pmatrix}\n",
      "0 \\begin{pmatrix}\n",
      "  -1.6 & 4. & -2.4 & 1.8 & -0.3\\\\\n",
      "  -1.6 & 4. & -2.4 & 1.8 & -0.3\\\\\n",
      "  -1.6 & 4. & -2.4 & 1.8 & -0.3\\\\\n",
      "  -1.6 & 4. & -2.4 & 1.8 & -0.3\\\\\n",
      "  -1.6 & 4. & -2.4 & 1.8 & -0.3\\\\\n",
      "\\end{pmatrix}\n",
      "45 \\begin{pmatrix}\n",
      "  3.165 & 0.261 & -1.305 & -0.012 & 0.001\\\\\n",
      "  1.076 & 3.165 & 0.261 & -1.305 & -0.012\\\\\n",
      "  -0.407 & 1.076 & 3.165 & 0.261 & -1.305\\\\\n",
      "  0.182 & -0.407 & 1.076 & 3.165 & 0.261\\\\\n",
      "  0.051 & 0.182 & -0.407 & 1.076 & 3.165\\\\\n",
      "\\end{pmatrix}\n",
      "90 \\begin{pmatrix}\n",
      "  -0.4 & -0.4 & -0.4 & -0.4 & -0.4\\\\\n",
      "  2.05 & 2.05 & 2.05 & 2.05 & 2.05\\\\\n",
      "  -2.4 & -2.4 & -2.4 & -2.4 & -2.4\\\\\n",
      "  3.75 & 3.75 & 3.75 & 3.75 & 3.75\\\\\n",
      "  -1.5 & -1.5 & -1.5 & -1.5 & -1.5\\\\\n",
      "\\end{pmatrix}\n",
      "135 \\begin{pmatrix}\n",
      "  0.069 & 0.258 & 0.351 & 0.646 & 0.972\\\\\n",
      "  0.258 & 0.351 & 0.646 & 0.972 & 0.759\\\\\n",
      "  0.351 & 0.646 & 0.972 & 0.759 & 0.486\\\\\n",
      "  0.646 & 0.972 & 0.759 & 0.486 & 0.295\\\\\n",
      "  0.972 & 0.759 & 0.486 & 0.295 & 0.079\\\\\n",
      "\\end{pmatrix}\n",
      "rec_filtered \\begin{pmatrix}\n",
      "  -0.383 & 3.86 & -3.277 & 1.717 & -0.214\\\\\n",
      "  1.117 & 7.808 & 0.104 & 3.683 & 2.123\\\\\n",
      "  -4.028 & 2.461 & -2.732 & -0.09 & -3.11\\\\\n",
      "  2.564 & 8.032 & 2.267 & 7.375 & 3.728\\\\\n",
      "  -2.589 & 2.97 & -3.861 & 0.985 & -0.178\\\\\n",
      "\\end{pmatrix}\n"
     ]
    },
    {
     "data": {
      "text/plain": [
       "(<Figure size 144x144 with 1 Axes>,\n <matplotlib.axes._subplots.AxesSubplot at 0x7f20797ed220>)"
      ]
     },
     "execution_count": 38,
     "metadata": {},
     "output_type": "execute_result"
    },
    {
     "data": {
      "image/png": "[encoded data removed]",
      "text/plain": [
       "<Figure size 144x144 with 1 Axes>"
      ]
     },
     "metadata": {},
     "output_type": "display_data"
    }
   ],
   "source": [
    "create_matrix_image(reconstruct(conv, backweights), save=('rec_filtered', 'theory'))"
   ]
  },
  {
   "cell_type": "code",
   "execution_count": 29,
   "metadata": {
    "autoscroll": false,
    "collapsed": false,
    "ein.hycell": false,
    "ein.tags": "worksheet-0",
    "slideshow": {
     "slide_type": "-"
    }
   },
   "outputs": [],
   "source": []
  },
  {
   "cell_type": "code",
   "execution_count": 11,
   "metadata": {
    "autoscroll": false,
    "collapsed": false,
    "ein.hycell": false,
    "ein.tags": "worksheet-0",
    "slideshow": {
     "slide_type": "-"
    }
   },
   "outputs": [],
   "source": []
  },
  {
   "cell_type": "code",
   "execution_count": null,
   "metadata": {
    "autoscroll": false,
    "collapsed": false,
    "ein.hycell": false,
    "ein.tags": "worksheet-0",
    "slideshow": {
     "slide_type": "-"
    }
   },
   "outputs": [],
   "source": []
  }
 ],
 "metadata": {
  "kernelspec": {
   "argv": [
    "/usr/bin/python3",
    "-m",
    "ipykernel_launcher",
    "-f",
    "{connection_file}"
   ],
   "display_name": "Python 3",
   "env": null,
   "interrupt_mode": "signal",
   "language": "python",
   "metadata": null,
   "name": "python3"
  },
  "name": "Untitled1.ipynb"
 },
 "nbformat": 4,
 "nbformat_minor": 2
}
