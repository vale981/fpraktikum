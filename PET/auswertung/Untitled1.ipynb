{
 "cells": [
  {
   "cell_type": "code",
   "execution_count": 1,
   "metadata": {
    "autoscroll": false,
    "collapsed": false,
    "ein.hycell": false,
    "ein.tags": "worksheet-0",
    "slideshow": {
     "slide_type": "-"
    }
   },
   "outputs": [],
   "source": [
    "import numpy as np\n",
    "from utility import *"
   ]
  },
  {
   "cell_type": "code",
   "execution_count": 2,
   "metadata": {
    "autoscroll": false,
    "collapsed": false,
    "ein.hycell": false,
    "ein.tags": "worksheet-0",
    "slideshow": {
     "slide_type": "-"
    }
   },
   "outputs": [],
   "source": [
    "weights = np.array([[14,0,0,0,0],\n",
    "[88,1,0,0,0],\n",
    "[39,61,0,0,0],\n",
    "[0,75,25,0,0],\n",
    "[0,4,91,4,0],\n",
    "[0,0,25,75,0],\n",
    "[0,0,0,61,39],\n",
    "[0,0,0,1,88],\n",
    "[0,0,0,0,14]])/100"
   ]
  },
  {
   "cell_type": "code",
   "execution_count": 21,
   "metadata": {
    "autoscroll": false,
    "collapsed": false,
    "ein.hycell": false,
    "ein.tags": "worksheet-0",
    "slideshow": {
     "slide_type": "-"
    }
   },
   "outputs": [],
   "source": [
    "source = np.array([\n",
    "[0,0,0,0,2],\n",
    "[0,9,0,0,0],\n",
    "[0,0,0,0,0],\n",
    "[0,7,0,8,0],\n",
    "[0,0,0,0,0]])"
   ]
  },
  {
   "cell_type": "code",
   "execution_count": 22,
   "metadata": {
    "autoscroll": false,
    "collapsed": false,
    "ein.hycell": false,
    "ein.tags": "worksheet-0",
    "slideshow": {
     "slide_type": "-"
    }
   },
   "outputs": [
    {
     "name": "stdout",
     "output_type": "stream",
     "text": [
      "source \\begin{pmatrix}\n",
      "  0 & 0 & 0 & 0 & 2\\\\\n",
      "  0 & 9 & 0 & 0 & 0\\\\\n",
      "  0 & 0 & 0 & 0 & 0\\\\\n",
      "  0 & 7 & 0 & 8 & 0\\\\\n",
      "  0 & 0 & 0 & 0 & 0\\\\\n",
      "\\end{pmatrix}\n"
     ]
    },
    {
     "data": {
      "text/plain": [
       "(<Figure size 144x144 with 1 Axes>,\n <matplotlib.axes._subplots.AxesSubplot at 0x7f247083fdc0>)"
      ]
     },
     "execution_count": 22,
     "metadata": {},
     "output_type": "execute_result"
    },
    {
     "data": {
      "image/png": "[encoded data removed]",
      "text/plain": [
       "<Figure size 144x144 with 1 Axes>"
      ]
     },
     "metadata": {},
     "output_type": "display_data"
    }
   ],
   "source": [
    "create_matrix_image(source, save=('source', 'theory'))"
   ]
  },
  {
   "cell_type": "code",
   "execution_count": 23,
   "metadata": {
    "autoscroll": false,
    "collapsed": false,
    "ein.hycell": false,
    "ein.tags": "worksheet-0",
    "slideshow": {
     "slide_type": "-"
    }
   },
   "outputs": [],
   "source": [
    "proj = calc_projection_matrix(source, weights)"
   ]
  },
  {
   "cell_type": "code",
   "execution_count": 24,
   "metadata": {
    "autoscroll": false,
    "collapsed": false,
    "ein.hycell": false,
    "ein.tags": "worksheet-0",
    "slideshow": {
     "slide_type": "-"
    }
   },
   "outputs": [
    {
     "name": "stdout",
     "output_type": "stream",
     "text": [
      "projection \\begin{pmatrix}\n",
      "  0. & 16. & 0. & 8. & 2.\\\\\n",
      "  2.73 & 4.95 & 15.47 & 0.68 & 0.28\\\\\n",
      "  0. & 15. & 0. & 9. & 2.\\\\\n",
      "  3.12 & 5.24 & 8.19 & 5.85 & 3.51\\\\\n",
      "\\end{pmatrix}\n"
     ]
    },
    {
     "data": {
      "text/plain": [
       "(<Figure size 144x144 with 1 Axes>,\n <matplotlib.axes._subplots.AxesSubplot at 0x7f247080f160>)"
      ]
     },
     "execution_count": 24,
     "metadata": {},
     "output_type": "execute_result"
    },
    {
     "data": {
      "image/png": "[encoded data removed]",
      "text/plain": [
       "<Figure size 144x144 with 1 Axes>"
      ]
     },
     "metadata": {},
     "output_type": "display_data"
    }
   ],
   "source": [
    "create_matrix_image(proj, save=('projection', 'theory'))"
   ]
  },
  {
   "cell_type": "code",
   "execution_count": 25,
   "metadata": {
    "autoscroll": false,
    "collapsed": false,
    "ein.hycell": false,
    "ein.tags": "worksheet-0",
    "slideshow": {
     "slide_type": "-"
    }
   },
   "outputs": [],
   "source": [
    "conv = convolute_projection(proj)"
   ]
  },
  {
   "cell_type": "code",
   "execution_count": 26,
   "metadata": {
    "autoscroll": false,
    "collapsed": false,
    "ein.hycell": false,
    "ein.tags": "worksheet-0",
    "slideshow": {
     "slide_type": "-"
    }
   },
   "outputs": [
    {
     "name": "stdout",
     "output_type": "stream",
     "text": [
      "convoluted \\begin{pmatrix}\n",
      "  -1.6 & 4. & -2.4 & 1.8 & -0.3\\\\\n",
      "  0.188 & -0.583 & 3.304 & -1.405 & 0.002\\\\\n",
      "  -1.5 & 3.75 & -2.4 & 2.05 & -0.4\\\\\n",
      "  0.256 & 0.179 & 0.938 & 0.293 & 0.292\\\\\n",
      "\\end{pmatrix}\n"
     ]
    },
    {
     "data": {
      "text/plain": [
       "(<Figure size 144x144 with 1 Axes>,\n <matplotlib.axes._subplots.AxesSubplot at 0x7f24707dbd90>)"
      ]
     },
     "execution_count": 26,
     "metadata": {},
     "output_type": "execute_result"
    },
    {
     "data": {
      "image/png": "[encoded data removed]",
      "text/plain": [
       "<Figure size 144x144 with 1 Axes>"
      ]
     },
     "metadata": {},
     "output_type": "display_data"
    }
   ],
   "source": [
    "create_matrix_image(conv, save=('convoluted', 'theory'))"
   ]
  },
  {
   "cell_type": "code",
   "execution_count": 27,
   "metadata": {
    "autoscroll": false,
    "collapsed": false,
    "ein.hycell": false,
    "ein.tags": "worksheet-0",
    "slideshow": {
     "slide_type": "-"
    }
   },
   "outputs": [],
   "source": [
    "backweights = np.array([\n",
    "    [27, 100, 73, 0, 0, 0, 0, 0, 0],\n",
    "    [0, 1, 93, 99, 7, 0, 0, 0, 0],\n",
    "    [0, 0, 0, 50, 100, 50, 0, 0, 0],\n",
    "    [0, 0, 0, 0, 7, 99, 93, 1, 0],\n",
    "    [0, 0, 0, 0, 0, 0, 73, 100, 27]])/100"
   ]
  },
  {
   "cell_type": "code",
   "execution_count": 28,
   "metadata": {
    "autoscroll": false,
    "collapsed": false,
    "ein.hycell": false,
    "ein.tags": "worksheet-0",
    "slideshow": {
     "slide_type": "-"
    }
   },
   "outputs": [
    {
     "name": "stdout",
     "output_type": "stream",
     "text": [
      "Reconstructed Diagonals\n",
      "45 \\begin{pmatrix}\n",
      "  0.737 & 2.78 & 6.596 & 12.636 & 15.864 & 8.408 & 0.837 & 0.287 & 0.076\\\\\n",
      "\\end{pmatrix}\n",
      "135 \\begin{pmatrix}\n",
      "  0.842 & 3.172 & 7.151 & 9.283 & 8.966 & 9.886 & 8.003 & 3.569 & 0.948\\\\\n",
      "\\end{pmatrix}\n",
      "0 \\begin{pmatrix}\n",
      "  0. & 16. & 0. & 8. & 2.\\\\\n",
      "  0. & 16. & 0. & 8. & 2.\\\\\n",
      "  0. & 16. & 0. & 8. & 2.\\\\\n",
      "  0. & 16. & 0. & 8. & 2.\\\\\n",
      "  0. & 16. & 0. & 8. & 2.\\\\\n",
      "\\end{pmatrix}\n",
      "45 \\begin{pmatrix}\n",
      "  15.864 & 8.408 & 0.837 & 0.287 & 0.076\\\\\n",
      "  12.636 & 15.864 & 8.408 & 0.837 & 0.287\\\\\n",
      "  6.596 & 12.636 & 15.864 & 8.408 & 0.837\\\\\n",
      "  2.78 & 6.596 & 12.636 & 15.864 & 8.408\\\\\n",
      "  0.737 & 2.78 & 6.596 & 12.636 & 15.864\\\\\n",
      "\\end{pmatrix}\n",
      "90 \\begin{pmatrix}\n",
      "  2. & 2. & 2. & 2. & 2.\\\\\n",
      "  9. & 9. & 9. & 9. & 9.\\\\\n",
      "  0. & 0. & 0. & 0. & 0.\\\\\n",
      "  15. & 15. & 15. & 15. & 15.\\\\\n",
      "  0. & 0. & 0. & 0. & 0.\\\\\n",
      "\\end{pmatrix}\n",
      "135 \\begin{pmatrix}\n",
      "  0.948 & 3.569 & 8.003 & 9.886 & 8.966\\\\\n",
      "  3.569 & 8.003 & 9.886 & 8.966 & 9.283\\\\\n",
      "  8.003 & 9.886 & 8.966 & 9.283 & 7.151\\\\\n",
      "  9.886 & 8.966 & 9.283 & 7.151 & 3.172\\\\\n",
      "  8.966 & 9.283 & 7.151 & 3.172 & 0.842\\\\\n",
      "\\end{pmatrix}\n"
     ]
    },
    {
     "name": "stdout",
     "output_type": "stream",
     "text": [
      "rec_simple \\begin{pmatrix}\n",
      "  10.406 & 23.988 & 6.42 & 15.087 & 8.521\\\\\n",
      "  17.102 & 36.933 & 18.147 & 21.902 & 15.785\\\\\n",
      "  7.3 & 27.261 & 12.415 & 16.845 & 5.994\\\\\n",
      "  21.333 & 38.781 & 25.959 & 34.507 & 22.79\\\\\n",
      "  4.852 & 22.031 & 6.874 & 15.904 & 10.353\\\\\n",
      "\\end{pmatrix}\n"
     ]
    },
    {
     "data": {
      "text/plain": [
       "(<Figure size 144x144 with 1 Axes>,\n <matplotlib.axes._subplots.AxesSubplot at 0x7f2470734bb0>)"
      ]
     },
     "execution_count": 28,
     "metadata": {},
     "output_type": "execute_result"
    },
    {
     "data": {
      "image/png": "[encoded data removed]",
      "text/plain": [
       "<Figure size 144x144 with 1 Axes>"
      ]
     },
     "metadata": {},
     "output_type": "display_data"
    }
   ],
   "source": [
    "create_matrix_image(reconstruct(proj, backweights), save=('rec_simple', 'theory'))"
   ]
  },
  {
   "cell_type": "code",
   "execution_count": 29,
   "metadata": {
    "autoscroll": false,
    "collapsed": false,
    "ein.hycell": false,
    "ein.tags": "worksheet-0",
    "slideshow": {
     "slide_type": "-"
    }
   },
   "outputs": [
    {
     "name": "stdout",
     "output_type": "stream",
     "text": [
      "Reconstructed Diagonals\n",
      "45 \\begin{pmatrix}\n",
      "  0.051 & 0.182 & -0.405 & 1.076 & 3.165 & 0.261 & -1.305 & -0.012 & 0.001\\\\\n",
      "\\end{pmatrix}\n",
      "135 \\begin{pmatrix}\n",
      "  0.069 & 0.258 & 0.353 & 0.646 & 0.972 & 0.759 & 0.486 & 0.295 & 0.079\\\\\n",
      "\\end{pmatrix}\n",
      "0 \\begin{pmatrix}\n",
      "  -1.6 & 4. & -2.4 & 1.8 & -0.3\\\\\n",
      "  -1.6 & 4. & -2.4 & 1.8 & -0.3\\\\\n",
      "  -1.6 & 4. & -2.4 & 1.8 & -0.3\\\\\n",
      "  -1.6 & 4. & -2.4 & 1.8 & -0.3\\\\\n",
      "  -1.6 & 4. & -2.4 & 1.8 & -0.3\\\\\n",
      "\\end{pmatrix}\n",
      "45 \\begin{pmatrix}\n",
      "  3.165 & 0.261 & -1.305 & -0.012 & 0.001\\\\\n",
      "  1.076 & 3.165 & 0.261 & -1.305 & -0.012\\\\\n",
      "  -0.405 & 1.076 & 3.165 & 0.261 & -1.305\\\\\n",
      "  0.182 & -0.405 & 1.076 & 3.165 & 0.261\\\\\n",
      "  0.051 & 0.182 & -0.405 & 1.076 & 3.165\\\\\n",
      "\\end{pmatrix}\n",
      "90 \\begin{pmatrix}\n",
      "  -0.4 & -0.4 & -0.4 & -0.4 & -0.4\\\\\n",
      "  2.05 & 2.05 & 2.05 & 2.05 & 2.05\\\\\n",
      "  -2.4 & -2.4 & -2.4 & -2.4 & -2.4\\\\\n",
      "  3.75 & 3.75 & 3.75 & 3.75 & 3.75\\\\\n",
      "  -1.5 & -1.5 & -1.5 & -1.5 & -1.5\\\\\n",
      "\\end{pmatrix}\n",
      "135 \\begin{pmatrix}\n",
      "  0.079 & 0.295 & 0.486 & 0.759 & 0.972\\\\\n",
      "  0.295 & 0.486 & 0.759 & 0.972 & 0.646\\\\\n",
      "  0.486 & 0.759 & 0.972 & 0.646 & 0.353\\\\\n",
      "  0.759 & 0.972 & 0.646 & 0.353 & 0.258\\\\\n",
      "  0.972 & 0.646 & 0.353 & 0.258 & 0.069\\\\\n",
      "\\end{pmatrix}\n"
     ]
    },
    {
     "name": "stdout",
     "output_type": "stream",
     "text": [
      "rec_filtered \\begin{pmatrix}\n",
      "  -0.378 & 3.878 & -3.21 & 1.773 & -0.214\\\\\n",
      "  1.135 & 7.875 & 0.16 & 3.683 & 2.067\\\\\n",
      "  -3.96 & 2.517 & -2.732 & -0.146 & -3.176\\\\\n",
      "  2.62 & 8.033 & 2.211 & 7.309 & 3.71\\\\\n",
      "  -2.589 & 2.914 & -3.926 & 0.967 & -0.183\\\\\n",
      "\\end{pmatrix}\n"
     ]
    },
    {
     "data": {
      "text/plain": [
       "(<Figure size 144x144 with 1 Axes>,\n <matplotlib.axes._subplots.AxesSubplot at 0x7f247070c130>)"
      ]
     },
     "execution_count": 29,
     "metadata": {},
     "output_type": "execute_result"
    },
    {
     "data": {
      "image/png": "[encoded data removed]",
      "text/plain": [
       "<Figure size 144x144 with 1 Axes>"
      ]
     },
     "metadata": {},
     "output_type": "display_data"
    }
   ],
   "source": [
    "create_matrix_image(reconstruct(conv, backweights), save=('rec_filtered', 'theory'))"
   ]
  }
 ],
 "metadata": {
  "kernelspec": {
   "argv": [
    "/usr/bin/python3",
    "-m",
    "ipykernel_launcher",
    "-f",
    "{connection_file}"
   ],
   "display_name": "Python 3",
   "env": null,
   "interrupt_mode": "signal",
   "language": "python",
   "metadata": null,
   "name": "python3"
  },
  "name": "Untitled1.ipynb"
 },
 "nbformat": 4,
 "nbformat_minor": 2
}
