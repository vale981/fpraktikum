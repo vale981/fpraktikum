{
 "cells": [
  {
   "cell_type": "code",
   "execution_count": 191,
   "metadata": {
    "autoscroll": false,
    "collapsed": false,
    "ein.hycell": false,
    "ein.tags": "worksheet-0",
    "slideshow": {
     "slide_type": "-"
    }
   },
   "outputs": [],
   "source": [
    "import numpy as np\n",
    "import matplotlib.pyplot as plt\n",
    "from importlib import reload\n",
    "import utility\n",
    "\n",
    "reload(utility)\n",
    "from utility import *\n",
    "\n",
    "from scipy.optimize import curve_fit\n",
    "from SecondaryValue import SecondaryValue\n"
   ]
  },
  {
   "cell_type": "code",
   "execution_count": 1,
   "metadata": {
    "autoscroll": false,
    "collapsed": false,
    "ein.hycell": false,
    "ein.tags": "worksheet-0",
    "slideshow": {
     "slide_type": "-"
    }
   },
   "outputs": [],
   "source": []
  },
  {
   "cell_type": "code",
   "execution_count": 2,
   "metadata": {
    "autoscroll": false,
    "collapsed": false,
    "ein.hycell": false,
    "ein.tags": "worksheet-0",
    "slideshow": {
     "slide_type": "-"
    }
   },
   "outputs": [],
   "source": [
    "org_compliance = 0.0098"
   ]
  },
  {
   "cell_type": "code",
   "execution_count": 3,
   "metadata": {
    "autoscroll": false,
    "collapsed": false,
    "ein.hycell": false,
    "ein.tags": "worksheet-0",
    "slideshow": {
     "slide_type": "-"
    }
   },
   "outputs": [],
   "source": [
    "# a\n",
    "org_dark = parse_ccurve('../messungen/191114_OM_VB/1_d_org.dat',\n",
    "                        compliance=org_compliance)\n",
    "org_light = parse_ccurve('../messungen/191114_OM_VB/1_h_or.dat',\n",
    "                         compliance=org_compliance)"
   ]
  },
  {
   "cell_type": "code",
   "execution_count": 4,
   "metadata": {
    "autoscroll": false,
    "collapsed": false,
    "ein.hycell": false,
    "ein.tags": "worksheet-0",
    "slideshow": {
     "slide_type": "-"
    }
   },
   "outputs": [
    {
     "data": {
      "text/plain": [
       "(<Figure size 432x288 with 1 Axes>,\n <matplotlib.axes._subplots.AxesSubplot at 0x7f922e5a5ac8>)"
      ]
     },
     "execution_count": 4,
     "metadata": {},
     "output_type": "execute_result"
    },
    {
     "data": {
      "image/png": "[encoded data removed]",
      "text/plain": [
       "<Figure size 432x288 with 1 Axes>"
      ]
     },
     "metadata": {},
     "output_type": "display_data"
    }
   ],
   "source": [
    "plot_ccurve(org_light)"
   ]
  },
  {
   "cell_type": "code",
   "execution_count": 4,
   "metadata": {
    "autoscroll": false,
    "collapsed": false,
    "ein.hycell": false,
    "ein.tags": "worksheet-0",
    "slideshow": {
     "slide_type": "-"
    }
   },
   "outputs": [],
   "source": []
  },
  {
   "cell_type": "code",
   "execution_count": 23,
   "metadata": {
    "autoscroll": false,
    "collapsed": false,
    "ein.hycell": false,
    "ein.tags": "worksheet-0",
    "slideshow": {
     "slide_type": "-"
    }
   },
   "outputs": [],
   "source": [
    "# anorganic\n",
    "an_dark = parse_ccurve('../messungen/191114_OM_VB/1_d_an.dat', compliance=.99)\n",
    "an_light = -1*parse_ccurve('../messungen/191114_OM_VB/1_h_an.dat')[::-1]\n"
   ]
  },
  {
   "cell_type": "code",
   "execution_count": 20,
   "metadata": {
    "autoscroll": false,
    "collapsed": false,
    "ein.hycell": false,
    "ein.tags": "worksheet-0",
    "slideshow": {
     "slide_type": "-"
    }
   },
   "outputs": [
    {
     "data": {
      "text/plain": [
       "(<Figure size 640x480 with 1 Axes>,\n <matplotlib.axes._subplots.AxesSubplot at 0x7f9217b88ba8>)"
      ]
     },
     "execution_count": 20,
     "metadata": {},
     "output_type": "execute_result"
    }
   ],
   "source": [
    "plot_ccurve(an_dark, save='A/an_dark_all.pdf')\n",
    "plot_ccurve(an_light, save='A/an_light_all.pdf')"
   ]
  },
  {
   "cell_type": "code",
   "execution_count": 167,
   "metadata": {
    "autoscroll": false,
    "collapsed": false,
    "ein.hycell": false,
    "ein.tags": "worksheet-0",
    "slideshow": {
     "slide_type": "-"
    }
   },
   "outputs": [
    {
     "data": {
      "text/plain": [
       "0.5696984382794336"
      ]
     },
     "execution_count": 167,
     "metadata": {},
     "output_type": "execute_result"
    }
   ],
   "source": [
    "%matplotlib qt5\n",
    "an_dark_lin = an_dark[90:]\n",
    "\n",
    "d_i = 0.0001\n",
    "\n",
    "def lin_rs(x, offset, l):\n",
    "    return x*l + offset\n",
    "\n",
    "an_param, an_sigma = curve_fit(lin_rs, an_dark_lin.T[1], an_dark_lin.T[0])\n",
    "an_sigma = np.sqrt(np.diag(an_sigma))\n",
    "\n",
    "plt.plot(an_dark.T[1], an_dark.T[0], linestyle='None', marker='x', label='Kennlinie')\n",
    "plt.ylabel('Spannung [V]')\n",
    "plt.xlabel('Stromstaerke [A]')\n",
    "plt.grid()\n",
    "plt.plot(an_dark_lin[:,1], lin_rs(an_dark_lin[:,1], *an_param), label='Linearer Fit')\n",
    "plt.legend()\n",
    "\n",
    "plt.savefig('./figs/A/dark_an_lin_fit.pdf', dpi=300)\n",
    "R = an_param[0]\n",
    "R"
   ]
  },
  {
   "cell_type": "code",
   "execution_count": 168,
   "metadata": {
    "autoscroll": false,
    "collapsed": false,
    "ein.hycell": false,
    "ein.tags": "worksheet-0",
    "slideshow": {
     "slide_type": "-"
    }
   },
   "outputs": [],
   "source": [
    "plt.clf()\n",
    "plt.ylabel('Spannung [V]')\n",
    "plt.xlabel('Logarthmus der Stromstaerke')\n",
    "plt.grid()\n",
    "an_u, an_i = an_dark[an_dark[:,1] > 0].T\n",
    "RR=R-0.222\n",
    "log_i = np.log(an_i)\n",
    "plt.plot(log_i, an_u - an_i * RR, linestyle='None', marker='x', label='Kennlinie')\n",
    "\n",
    "p, _ = curve_fit(lin_rs, log_i[30:], (an_u - an_i * RR)[30:])\n",
    "plt.plot(log_i, lin_rs(log_i,*p))\n",
    "n = p[1]\n",
    "i_s = np.exp(-p[0]/p[1])\n",
    "plt.savefig('./figs/A/dark_an_lin_fit_end.pdf', dpi=300)"
   ]
  },
  {
   "cell_type": "code",
   "execution_count": 169,
   "metadata": {
    "autoscroll": false,
    "collapsed": false,
    "ein.hycell": false,
    "ein.tags": "worksheet-0",
    "slideshow": {
     "slide_type": "-"
    }
   },
   "outputs": [],
   "source": [
    "\n",
    "def u(x, i, n, RR):\n",
    "    return n*np.log((x+i)/i) + x*RR\n",
    "plt.clf()\n",
    "plt.ylabel('Spannung [V]')\n",
    "plt.xlabel('Logarthmus der Stromstaerke')\n",
    "plt.grid()\n",
    "plt.plot(an_i[10:], an_u[10:], linestyle='None', marker='x', label='Kennlinie')\n",
    "plt.plot(an_i, u(an_i, i_s, n, RR), label='Fit')\n",
    "plt.legend()\n",
    "plt.savefig('./figs/A/dark_an_fit_final.pdf', dpi=300)\n",
    "p, _ = curve_fit(u, an_i, an_u, p0=[i_s, n, RR])\n"
   ]
  },
  {
   "cell_type": "code",
   "execution_count": 170,
   "metadata": {
    "autoscroll": false,
    "collapsed": false,
    "ein.hycell": false,
    "ein.tags": "worksheet-0",
    "slideshow": {
     "slide_type": "-"
    }
   },
   "outputs": [
    {
     "data": {
      "text/plain": [
       "(1.4857909275739798, 9.565465005646108e-08, 0.3476984382794336)"
      ]
     },
     "execution_count": 170,
     "metadata": {},
     "output_type": "execute_result"
    }
   ],
   "source": [
    "# Final Parameters\n",
    "nn = 11804.5221 * n / (273.15 + 32)\n",
    "nn, i_s, RR"
   ]
  },
  {
   "cell_type": "code",
   "execution_count": 193,
   "metadata": {
    "autoscroll": false,
    "collapsed": false,
    "ein.hycell": false,
    "ein.tags": "worksheet-0",
    "slideshow": {
     "slide_type": "-"
    }
   },
   "outputs": [],
   "source": [
    "fig, ax = plot_ccurve(an_dark, label='Dunkel')\n",
    "plot_ccurve_line(ax, an_light, label='Hell', marker='x')\n",
    "ax.legend()\n",
    "fig.show()\n",
    "save_fig(fig, 'A/anorg_hell_dunkel.pdf')"
   ]
  },
  {
   "cell_type": "code",
   "execution_count": null,
   "metadata": {
    "autoscroll": false,
    "collapsed": false,
    "ein.hycell": false,
    "ein.tags": "worksheet-0",
    "slideshow": {
     "slide_type": "-"
    }
   },
   "outputs": [],
   "source": []
  }
 ],
 "metadata": {
  "kernelspec": {
   "argv": [
    "python",
    "-m",
    "ipykernel_launcher",
    "-f",
    "{connection_file}"
   ],
   "display_name": "Python 3",
   "env": null,
   "interrupt_mode": "signal",
   "language": "python",
   "metadata": null,
   "name": "python3"
  },
  "name": "a_1.ipynb"
 },
 "nbformat": 4,
 "nbformat_minor": 2
}
