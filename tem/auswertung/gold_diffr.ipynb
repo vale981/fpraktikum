{
 "cells": [
  {
   "cell_type": "code",
   "execution_count": 1,
   "metadata": {
    "autoscroll": false,
    "collapsed": false,
    "ein.hycell": false,
    "ein.tags": "worksheet-0",
    "slideshow": {
     "slide_type": "-"
    }
   },
   "outputs": [],
   "source": [
    "from utility import *\n",
    "import numpy as np\n",
    "import matplotlib.pyplot as plt"
   ]
  },
  {
   "cell_type": "code",
   "execution_count": 2,
   "metadata": {
    "autoscroll": false,
    "collapsed": false,
    "ein.hycell": false,
    "ein.tags": "worksheet-0",
    "slideshow": {
     "slide_type": "-"
    }
   },
   "outputs": [],
   "source": [
    "profile = load_profiles('../messungen/gold_diffr/peaks.txt')"
   ]
  },
  {
   "cell_type": "code",
   "execution_count": 35,
   "metadata": {
    "autoscroll": false,
    "collapsed": false,
    "ein.hycell": false,
    "ein.tags": "worksheet-0",
    "slideshow": {
     "slide_type": "-"
    }
   },
   "outputs": [
    {
     "data": {
      "text/plain": [
       "array([[0.00000000e+00, 1.30194940e-03],\n       [3.30000000e-02, 1.02512983e-03],\n       [6.60000000e-02, 6.93774735e-04],\n       ...,\n       [1.64120000e+01, 1.80837044e-02],\n       [1.64450000e+01, 1.76819364e-02],\n       [1.64780000e+01, 1.72794780e-02]])"
      ]
     },
     "execution_count": 35,
     "metadata": {},
     "output_type": "execute_result"
    }
   ],
   "source": [
    "profile[0,0]"
   ]
  },
  {
   "cell_type": "code",
   "execution_count": 3,
   "metadata": {
    "autoscroll": false,
    "collapsed": false,
    "ein.hycell": false,
    "ein.tags": "worksheet-0",
    "slideshow": {
     "slide_type": "-"
    }
   },
   "outputs": [
    {
     "data": {
      "text/plain": [
       "(<Figure size 640x480 with 1 Axes>,\n <matplotlib.axes._subplots.AxesSubplot at 0x7fc81264b730>)"
      ]
     },
     "execution_count": 3,
     "metadata": {},
     "output_type": "execute_result"
    }
   ],
   "source": [
    "%matplotlib qt5\n",
    "plot_diffr_profile(profile)"
   ]
  },
  {
   "cell_type": "code",
   "execution_count": 45,
   "metadata": {
    "autoscroll": false,
    "collapsed": false,
    "ein.hycell": false,
    "ein.tags": "worksheet-0",
    "slideshow": {
     "slide_type": "-"
    }
   },
   "outputs": [
    {
     "data": {
      "image/png": "[encoded data removed]",
      "text/plain": [
       "<Figure size 360x288 with 1 Axes>"
      ]
     },
     "metadata": {},
     "output_type": "display_data"
    }
   ],
   "source": [
    "%matplotlib inline\n",
    "candidates, d_candidates, sigma_candidates = analyze_diffr_profile(profile, limits=[100, -1], distance=15, prominence=.001, save=('profile', 'gold_diffr'))"
   ]
  },
  {
   "cell_type": "code",
   "execution_count": 26,
   "metadata": {
    "autoscroll": false,
    "collapsed": false,
    "ein.hycell": false,
    "ein.tags": "worksheet-0",
    "slideshow": {
     "slide_type": "-"
    }
   },
   "outputs": [
    {
     "name": "stdout",
     "output_type": "stream",
     "text": [
      "(array([ 4,  4,  8, 11, 12, 24, 27, 32, 40]), array([[0.4365859 , 0.00314502, 0.01437761],\n",
      "       [0.38654813, 0.00246542, 0.00556833],\n",
      "       [0.37642096, 0.00165317, 0.00774769],\n",
      "       [0.39935277, 0.00158683, 0.00070146],\n",
      "       [0.39369265, 0.00147652, 0.00841213],\n",
      "       [0.41640285, 0.00116798, 0.0086763 ],\n",
      "       [0.40118533, 0.00102217, 0.00451444],\n",
      "       [0.4146038 , 0.00100278, 0.0033909 ],\n",
      "       [0.40573231, 0.00085894, 0.00504213]]), array([0.0287859 , 0.02125187, 0.03137904, 0.00844723, 0.01410735,\n",
      "       0.00860285, 0.00661467, 0.0068038 , 0.00206769]))\n"
     ]
    }
   ],
   "source": [
    "hypothesis = evaluate_hypothesis(np.array([candidates, d_candidates, sigma_candidates]).T, maximum=80)\n",
    "print(hypothesis)"
   ]
  },
  {
   "cell_type": "code",
   "execution_count": 28,
   "metadata": {
    "autoscroll": false,
    "collapsed": false,
    "ein.hycell": false,
    "ein.tags": "worksheet-0",
    "slideshow": {
     "slide_type": "-"
    }
   },
   "outputs": [
    {
     "name": "stdout",
     "output_type": "stream",
     "text": [
      "1 & \\(\\sqrt{4}\\) & 0.4366 & 0.0031 & 0.0144 & 0.029 \\\\\n",
      "2 & \\(\\sqrt{4}\\) & 0.3865 & 0.0025 & 0.0056 & 0.021 \\\\\n",
      "3 & \\(\\sqrt{8}\\) & 0.3764 & 0.0017 & 0.0077 & 0.031 \\\\\n",
      "4 & \\(\\sqrt{11}\\) & 0.3994 & 0.0016 & 0.0007 & 0.008 \\\\\n",
      "5 & \\(\\sqrt{12}\\) & 0.3937 & 0.0015 & 0.0084 & 0.014 \\\\\n",
      "6 & \\(\\sqrt{24}\\) & 0.4164 & 0.0012 & 0.0087 & 0.009 \\\\\n",
      "7 & \\(\\sqrt{27}\\) & 0.4012 & 0.001 & 0.0045 & 0.007 \\\\\n",
      "8 & \\(\\sqrt{32}\\) & 0.4146 & 0.001 & 0.0034 & 0.007 \\\\\n",
      "9 & \\(\\sqrt{40}\\) & 0.4057 & 0.0009 & 0.005 & 0.002 \\\\\n",
      "\n"
     ]
    }
   ],
   "source": [
    "print(generate_hypethsesis_table(*hypothesis))"
   ]
  },
  {
   "cell_type": "code",
   "execution_count": 29,
   "metadata": {
    "autoscroll": false,
    "collapsed": false,
    "ein.hycell": false,
    "ein.tags": "worksheet-0",
    "slideshow": {
     "slide_type": "-"
    }
   },
   "outputs": [],
   "source": [
    "a, d_a, sigma_a = determine_lattice_constant(hypothesis)"
   ]
  },
  {
   "cell_type": "code",
   "execution_count": 46,
   "metadata": {
    "autoscroll": false,
    "collapsed": false,
    "ein.hycell": false,
    "ein.tags": "worksheet-0",
    "slideshow": {
     "slide_type": "-"
    }
   },
   "outputs": [
    {
     "data": {
      "text/plain": [
       "(0.4016, 0.0017, 0.0089)"
      ]
     },
     "execution_count": 46,
     "metadata": {},
     "output_type": "execute_result"
    }
   ],
   "source": [
    "scientific_round(a, d_a, sigma_a)"
   ]
  },
  {
   "cell_type": "code",
   "execution_count": 19,
   "metadata": {
    "autoscroll": false,
    "collapsed": false,
    "ein.hycell": false,
    "ein.tags": "worksheet-0",
    "slideshow": {
     "slide_type": "-"
    }
   },
   "outputs": [
    {
     "name": "stdout",
     "output_type": "stream",
     "text": [
      "\\(\\sqrt{4}\\) & \\(\\mqty(2 & 0 & 0)\\) \\\\\n",
      "\\(\\sqrt{8}\\) & \\(\\mqty(2 & 2 & 0)\\) \\\\\n",
      "\\(\\sqrt{11}\\) & \\(\\mqty(3 & 1 & 1)\\) \\\\\n",
      "\\(\\sqrt{12}\\) & \\(\\mqty(2 & 2 & 2)\\) \\\\\n",
      "\\(\\sqrt{24}\\) & \\(\\mqty(4 & 2 & 2)\\) \\\\\n",
      "\\(\\sqrt{27}\\) & \\(\\mqty(3 & 3 & 3)\\), \\(\\mqty(5 & 1 & 1)\\) \\\\\n",
      "\\(\\sqrt{32}\\) & \\(\\mqty(4 & 4 & 0)\\) \\\\\n",
      "\\(\\sqrt{40}\\) & \\(\\mqty(6 & 2 & 0)\\) \\\\\n",
      "\n"
     ]
    }
   ],
   "source": [
    "print(generate_miller_table(hypothesis[0]))"
   ]
  },
  {
   "cell_type": "code",
   "execution_count": 24,
   "metadata": {
    "autoscroll": false,
    "collapsed": false,
    "ein.hycell": false,
    "ein.tags": "worksheet-0",
    "slideshow": {
     "slide_type": "-"
    }
   },
   "outputs": [
    {
     "data": {
      "text/plain": [
       "0.4033916337519268"
      ]
     },
     "execution_count": 24,
     "metadata": {},
     "output_type": "execute_result"
    }
   ],
   "source": [
    "hypothesis[1][:,0].mean()"
   ]
  },
  {
   "cell_type": "code",
   "execution_count": 51,
   "metadata": {
    "autoscroll": false,
    "collapsed": false,
    "ein.hycell": false,
    "ein.tags": "worksheet-0",
    "slideshow": {
     "slide_type": "-"
    }
   },
   "outputs": [
    {
     "data": {
      "text/plain": [
       "-0.027602905569007182"
      ]
     },
     "execution_count": 51,
     "metadata": {},
     "output_type": "execute_result"
    }
   ],
   "source": [
    "(.4016-.413)/.413"
   ]
  }
 ],
 "metadata": {
  "kernelspec": {
   "argv": [
    "/usr/bin/python3",
    "-m",
    "ipykernel_launcher",
    "-f",
    "{connection_file}"
   ],
   "display_name": "Python 3",
   "env": null,
   "interrupt_mode": "signal",
   "language": "python",
   "metadata": null,
   "name": "python3"
  },
  "name": "gold_diffr.ipynb"
 },
 "nbformat": 4,
 "nbformat_minor": 2
}
