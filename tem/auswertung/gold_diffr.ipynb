{
 "cells": [
  {
   "cell_type": "code",
   "execution_count": 7,
   "metadata": {
    "autoscroll": false,
    "collapsed": false,
    "ein.hycell": false,
    "ein.tags": "worksheet-0",
    "slideshow": {
     "slide_type": "-"
    }
   },
   "outputs": [],
   "source": [
    "from utility import *\n",
    "import numpy as np\n",
    "import matplotlib.pyplot as plt"
   ]
  },
  {
   "cell_type": "code",
   "execution_count": 9,
   "metadata": {
    "autoscroll": false,
    "collapsed": false,
    "ein.hycell": false,
    "ein.tags": "worksheet-0",
    "slideshow": {
     "slide_type": "-"
    }
   },
   "outputs": [],
   "source": [
    "profile = load_profiles('../messungen/gold_diffr/peaks.txt')"
   ]
  },
  {
   "cell_type": "code",
   "execution_count": 21,
   "metadata": {
    "autoscroll": false,
    "collapsed": false,
    "ein.hycell": false,
    "ein.tags": "worksheet-0",
    "slideshow": {
     "slide_type": "-"
    }
   },
   "outputs": [
    {
     "data": {
      "text/plain": [
       "(<Figure size 640x480 with 1 Axes>,\n <matplotlib.axes._subplots.AxesSubplot at 0x7fac39e3f490>)"
      ]
     },
     "execution_count": 21,
     "metadata": {},
     "output_type": "execute_result"
    }
   ],
   "source": [
    "%matplotlib qt5\n",
    "plot_diffr_profile(profile)"
   ]
  },
  {
   "cell_type": "code",
   "execution_count": 50,
   "metadata": {
    "autoscroll": false,
    "collapsed": false,
    "ein.hycell": false,
    "ein.tags": "worksheet-0",
    "slideshow": {
     "slide_type": "-"
    }
   },
   "outputs": [
    {
     "data": {
      "image/png": "[encoded data removed]",
      "text/plain": [
       "<Figure size 432x288 with 1 Axes>"
      ]
     },
     "metadata": {},
     "output_type": "display_data"
    }
   ],
   "source": [
    "%matplotlib inline\n",
    "candidates, d_candidates, sigma_candidates = analyze_diffr_profile(profile, limits=[100, -1], distance=15, prominence=.001)"
   ]
  },
  {
   "cell_type": "code",
   "execution_count": 73,
   "metadata": {
    "autoscroll": false,
    "collapsed": false,
    "ein.hycell": false,
    "ein.tags": "worksheet-0",
    "slideshow": {
     "slide_type": "-"
    }
   },
   "outputs": [
    {
     "name": "stdout",
     "output_type": "stream",
     "text": [
      "(array([ 4,  4,  9, 11, 13, 23, 28, 31, 40]), array([[0.4365859 , 0.00314502, 0.03385928],\n",
      "       [0.38654813, 0.00246542, 0.01311343],\n",
      "       [0.39925472, 0.00175345, 0.0193526 ],\n",
      "       [0.39935277, 0.00158683, 0.00165195],\n",
      "       [0.4097683 , 0.00153681, 0.02061948],\n",
      "       [0.40763549, 0.00114339, 0.02000247],\n",
      "       [0.40854715, 0.00104092, 0.0108266 ],\n",
      "       [0.4080742 , 0.00098699, 0.00785981],\n",
      "       [0.40573231, 0.00085894, 0.01187421]]), array([0.0287859 , 0.02125187, 0.00854528, 0.00844723, 0.0019683 ,\n",
      "       0.00016451, 0.00074715, 0.0002742 , 0.00206769]))\n"
     ]
    }
   ],
   "source": [
    "hypothesis = evaluate_hypothesis(np.array([candidates, d_candidates, sigma_candidates]).T, maximum=80)\n",
    "print(hypothesis)"
   ]
  },
  {
   "cell_type": "code",
   "execution_count": 101,
   "metadata": {
    "autoscroll": false,
    "collapsed": false,
    "ein.hycell": false,
    "ein.tags": "worksheet-0",
    "slideshow": {
     "slide_type": "-"
    }
   },
   "outputs": [
    {
     "name": "stdout",
     "output_type": "stream",
     "text": [
      "\\(\\sqrt{4}\\) & 0.4366 & 0.0031 & 0.0339 & 0.029 \\\\\n",
      "\\(\\sqrt{4}\\) & 0.3865 & 0.0025 & 0.0131 & 0.021 \\\\\n",
      "\\(\\sqrt{9}\\) & 0.3993 & 0.0018 & 0.0194 & 0.009 \\\\\n",
      "\\(\\sqrt{11}\\) & 0.3994 & 0.0016 & 0.0017 & 0.008 \\\\\n",
      "\\(\\sqrt{13}\\) & 0.4098 & 0.0015 & 0.0206 & 0.002 \\\\\n",
      "\\(\\sqrt{23}\\) & 0.4076 & 0.0011 & 0.02 & 0.000 \\\\\n",
      "\\(\\sqrt{28}\\) & 0.4085 & 0.001 & 0.0108 & 0.001 \\\\\n",
      "\\(\\sqrt{31}\\) & 0.4081 & 0.001 & 0.0079 & 0.000 \\\\\n",
      "\\(\\sqrt{40}\\) & 0.4057 & 0.0009 & 0.0119 & 0.002 \\\\\n",
      "\n"
     ]
    }
   ],
   "source": [
    "print(generate_hypethsesis_table(*hypothesis))"
   ]
  },
  {
   "cell_type": "code",
   "execution_count": 135,
   "metadata": {
    "autoscroll": false,
    "collapsed": false,
    "ein.hycell": false,
    "ein.tags": "worksheet-0",
    "slideshow": {
     "slide_type": "-"
    }
   },
   "outputs": [
    {
     "name": "stdout",
     "output_type": "stream",
     "text": [
      "[  730.29050427  4120.30484636  2244.84475614 95331.69131926\n",
      "  2037.07066904  2236.39955377  7100.34700268 12776.96536546\n",
      "  6167.76634145]\n"
     ]
    }
   ],
   "source": [
    "a, d_a, sigma_a = determine_lattice_constant(hypothesis)"
   ]
  },
  {
   "cell_type": "code",
   "execution_count": 136,
   "metadata": {
    "autoscroll": false,
    "collapsed": false,
    "ein.hycell": false,
    "ein.tags": "worksheet-0",
    "slideshow": {
     "slide_type": "-"
    }
   },
   "outputs": [
    {
     "data": {
      "text/plain": [
       "(0.4011, 0.0027, 0.0051)"
      ]
     },
     "execution_count": 136,
     "metadata": {},
     "output_type": "execute_result"
    }
   ],
   "source": [
    "scientific_round(a, d_a, sigma_a)"
   ]
  },
  {
   "cell_type": "code",
   "execution_count": 130,
   "metadata": {
    "autoscroll": false,
    "collapsed": false,
    "ein.hycell": false,
    "ein.tags": "worksheet-0",
    "slideshow": {
     "slide_type": "-"
    }
   },
   "outputs": [],
   "source": []
  }
 ],
 "metadata": {
  "kernelspec": {
   "argv": [
    "/usr/bin/python3",
    "-m",
    "ipykernel_launcher",
    "-f",
    "{connection_file}"
   ],
   "display_name": "Python 3",
   "env": null,
   "interrupt_mode": "signal",
   "language": "python",
   "metadata": null,
   "name": "python3"
  },
  "name": "gold_diffr.ipynb"
 },
 "nbformat": 4,
 "nbformat_minor": 2
}
