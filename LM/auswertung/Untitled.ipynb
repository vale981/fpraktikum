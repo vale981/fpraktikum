{
 "cells": [
  {
   "cell_type": "code",
   "execution_count": 38,
   "metadata": {
    "autoscroll": false,
    "collapsed": false,
    "ein.hycell": false,
    "ein.tags": "worksheet-0",
    "slideshow": {
     "slide_type": "-"
    }
   },
   "outputs": [],
   "source": [
    "import numpy as np\n",
    "import matplotlib.pyplot as plt\n",
    "import pandas as pd\n",
    "import util\n",
    "from scipy.stats import binned_statistic"
   ]
  },
  {
   "cell_type": "markdown",
   "metadata": {
    "ein.tags": "worksheet-0",
    "slideshow": {
     "slide_type": "-"
    }
   },
   "source": [
    "# Kennlinien PM3"
   ]
  },
  {
   "cell_type": "code",
   "execution_count": 5,
   "metadata": {
    "autoscroll": false,
    "collapsed": false,
    "ein.hycell": false,
    "ein.tags": "worksheet-0",
    "slideshow": {
     "slide_type": "-"
    }
   },
   "outputs": [
    {
     "data": {
      "text/plain": [
       "131.75230566534913"
      ]
     },
     "execution_count": 5,
     "metadata": {},
     "output_type": "execute_result"
    }
   ],
   "source": [
    "eta = .03\n",
    "rt = 506/60\n",
    "T = 1/eta**2*1/rt\n",
    "T"
   ]
  },
  {
   "cell_type": "code",
   "execution_count": 6,
   "metadata": {
    "autoscroll": false,
    "collapsed": false,
    "ein.hycell": false,
    "ein.tags": "worksheet-0",
    "slideshow": {
     "slide_type": "-"
    }
   },
   "outputs": [
    {
     "data": {
      "text/plain": [
       "0.029514066805047763"
      ]
     },
     "execution_count": 6,
     "metadata": {},
     "output_type": "execute_result"
    }
   ],
   "source": [
    "N=1148\n",
    "c=N/T\n",
    "dc=np.sqrt(N)/T\n",
    "dc/c"
   ]
  },
  {
   "cell_type": "markdown",
   "metadata": {
    "ein.tags": "worksheet-0",
    "slideshow": {
     "slide_type": "-"
    }
   },
   "source": [
    "## Plot"
   ]
  },
  {
   "cell_type": "code",
   "execution_count": 25,
   "metadata": {
    "autoscroll": false,
    "collapsed": false,
    "ein.hycell": false,
    "ein.tags": "worksheet-0",
    "slideshow": {
     "slide_type": "-"
    }
   },
   "outputs": [
    {
     "data": {
      "image/png": "[encoded data removed]",
      "text/plain": [
       "<Figure size 360x288 with 1 Axes>"
      ]
     },
     "metadata": {},
     "output_type": "display_data"
    }
   ],
   "source": [
    "%matplotlib inline\n",
    "fig, ax = set_up_plot()\n",
    "calib = pd.read_excel('../messungen/vorversuch_kennlinnien.xlsx', sheet_name='Kennl')\n",
    "ax.set_xlabel('Spannung [V]')\n",
    "ax.set_ylabel('Events')\n",
    "ax.plot(calib['U/V'], calib[\"N123\"], marker='.', label='Kennlinie PM3')\n",
    "ax.axvline(2300, linestyle='dotted', color='gray', label='Gewaehlte Spannung')\n",
    "ax.legend()\n",
    "ax.set_xlim([calib['U/V'].min(), calib['U/V'].max()])\n",
    "save_fig(fig, 'kennlinie_pm3', 'vorversuch')"
   ]
  },
  {
   "cell_type": "markdown",
   "metadata": {
    "ein.tags": "worksheet-0",
    "slideshow": {
     "slide_type": "-"
    }
   },
   "source": [
    "# Peakhoehen der Photomultiplier"
   ]
  },
  {
   "cell_type": "code",
   "execution_count": 110,
   "metadata": {
    "autoscroll": false,
    "collapsed": false,
    "ein.hycell": false,
    "ein.tags": "worksheet-0",
    "slideshow": {
     "slide_type": "-"
    }
   },
   "outputs": [],
   "source": [
    "peaks = pd.read_excel('../messungen/vorversuch_kennlinnien.xlsx')\n",
    "peak_labels = ['P1', 'P2', 'P3']\n",
    "bin_offsets = [8, 15, 40]"
   ]
  },
  {
   "cell_type": "code",
   "execution_count": 111,
   "metadata": {
    "autoscroll": false,
    "collapsed": false,
    "ein.hycell": false,
    "ein.tags": "worksheet-0",
    "slideshow": {
     "slide_type": "-"
    }
   },
   "outputs": [],
   "source": [
    "peaks['dP1'] = calculate_peak_uncertainty(peaks[\"P1\"])\n",
    "peaks['dP2'] = calculate_peak_uncertainty(peaks[\"P2\"])\n",
    "peaks['dP3'] = calculate_peak_uncertainty(peaks[\"P3\"])\n"
   ]
  },
  {
   "cell_type": "code",
   "execution_count": null,
   "metadata": {
    "autoscroll": false,
    "collapsed": false,
    "ein.hycell": false,
    "ein.tags": "worksheet-0",
    "slideshow": {
     "slide_type": "-"
    }
   },
   "outputs": [],
   "source": [
    "for index, peak in enumerate(peak_labels):\n",
    "    plot_hist(peaks[peak], calculate_bins(peaks[peak]) + bin_offsets[index], save=(f'muon_{peak}_spec', 'vorversuch'))"
   ]
  },
  {
   "cell_type": "code",
   "execution_count": null,
   "metadata": {
    "autoscroll": false,
    "collapsed": false,
    "ein.hycell": false,
    "ein.tags": "worksheet-0",
    "slideshow": {
     "slide_type": "-"
    }
   },
   "outputs": [],
   "source": []
  },
  {
   "cell_type": "code",
   "execution_count": 66,
   "metadata": {
    "autoscroll": false,
    "collapsed": false,
    "ein.hycell": false,
    "ein.tags": "worksheet-0",
    "slideshow": {
     "slide_type": "-"
    }
   },
   "outputs": [
    {
     "data": {
      "text/plain": [
       "0       2.4\n1       3.0\n2       9.8\n3      11.2\n4     200.0\n5       3.0\n6       5.6\n7       5.4\n8       5.0\n9       3.6\n10      3.2\n11      4.2\n12      2.4\n13      2.2\n14      4.6\n15      6.4\n16      2.6\n17      3.4\n18      5.2\n19      3.4\n20      2.4\n21      3.4\n22      4.4\n23      3.0\n24      5.8\n25      9.0\n26      2.6\n27      2.0\n28      3.6\n29      3.4\n30      5.2\n31      3.6\n32      4.2\n33      2.4\n34      4.4\n35      4.2\n36      2.8\n37      3.2\n38      2.8\n39      2.6\n40      3.2\n41      2.8\n42      7.4\n43      4.4\n44      5.2\n45      9.0\n46      4.2\n47      6.2\n48      6.4\n49     11.4\nName: P2, dtype: float64"
      ]
     },
     "execution_count": 66,
     "metadata": {},
     "output_type": "execute_result"
    }
   ],
   "source": [
    "peaks['P2']"
   ]
  }
 ],
 "metadata": {
  "kernelspec": {
   "argv": [
    "/usr/bin/python3",
    "-m",
    "ipykernel_launcher",
    "-f",
    "{connection_file}"
   ],
   "display_name": "Python 3",
   "env": null,
   "interrupt_mode": "signal",
   "language": "python",
   "metadata": null,
   "name": "python3"
  },
  "name": "Untitled.ipynb"
 },
 "nbformat": 4,
 "nbformat_minor": 2
}
