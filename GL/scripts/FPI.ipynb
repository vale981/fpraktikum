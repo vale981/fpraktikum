{
 "cells": [
  {
   "cell_type": "code",
   "execution_count": 19,
   "metadata": {
    "autoscroll": false,
    "collapsed": false,
    "ein.hycell": false,
    "ein.tags": "worksheet-0",
    "slideshow": {
     "slide_type": "-"
    }
   },
   "outputs": [],
   "source": [
    "import matplotlib.pyplot as plt\n",
    "import numpy as np\n",
    "import pandas as pd\n",
    "from scipy.signal import find_peaks, find_peaks_cwt\n",
    "from SecondaryValue import SecondaryValue"
   ]
  },
  {
   "cell_type": "code",
   "execution_count": 166,
   "metadata": {
    "autoscroll": false,
    "collapsed": false,
    "ein.hycell": false,
    "ein.tags": "worksheet-0",
    "slideshow": {
     "slide_type": "-"
    }
   },
   "outputs": [],
   "source": [
    "komm_1 = np.loadtxt('../messungen/Boettcher_Matthes/FSR-Messungen/kommerzieller_HeNe/4.1spektr.txt',\n",
    "            skiprows=4)\n",
    "komm_p1 = np.loadtxt('../messungen/Boettcher_Matthes/FSR-Messungen/kommerzieller_HeNe/pol1.txt',\n",
    "            skiprows=1) * 1e4\n",
    "komm_p2 = np.loadtxt('../messungen/Boettcher_Matthes/FSR-Messungen/kommerzieller_HeNe/pol2.txt',\n",
    "            skiprows=4)\n"
   ]
  },
  {
   "cell_type": "code",
   "execution_count": 167,
   "metadata": {
    "autoscroll": false,
    "collapsed": false,
    "ein.hycell": false,
    "ein.tags": "worksheet-0",
    "slideshow": {
     "slide_type": "-"
    }
   },
   "outputs": [],
   "source": [
    "komm_1_narrowed = komm_1[20:250]"
   ]
  },
  {
   "cell_type": "code",
   "execution_count": 168,
   "metadata": {
    "autoscroll": false,
    "collapsed": false,
    "ein.hycell": false,
    "ein.tags": "worksheet-0",
    "slideshow": {
     "slide_type": "-"
    }
   },
   "outputs": [],
   "source": [
    "peaks, peak_info = find_peaks(komm_1_narrowed[:,1], height=80, width=1, rel_height=.5)\n",
    "all_peaks, _ = find_peaks(komm_1[:,1], height=60, distance=10)"
   ]
  },
  {
   "cell_type": "code",
   "execution_count": 169,
   "metadata": {
    "autoscroll": false,
    "collapsed": false,
    "ein.hycell": false,
    "ein.tags": "worksheet-0",
    "slideshow": {
     "slide_type": "-"
    }
   },
   "outputs": [],
   "source": [
    "%matplotlib qt5\n",
    "plt.plot(*komm_1_narrowed.T, label='Spektrum')\n",
    "plt.plot(komm_1_narrowed[:,0][peaks[1::2]], komm_1_narrowed[:,1][peaks[1::2]], \"x\",\n",
    "         color='red', label='Peaks')\n",
    "plt.xlabel('Zeit [u]')\n",
    "plt.ylabel('Amplitude [mV]')\n",
    "plt.legend()\n",
    "plt.autoscale(enable=True, axis='x', tight=True)\n",
    "plt.show()"
   ]
  },
  {
   "cell_type": "code",
   "execution_count": 83,
   "metadata": {
    "autoscroll": false,
    "collapsed": false,
    "ein.hycell": false,
    "ein.tags": "worksheet-0",
    "slideshow": {
     "slide_type": "-"
    }
   },
   "outputs": [],
   "source": [
    "dt = .5\n",
    "fsr = 1.99862e9, 0.067e9"
   ]
  },
  {
   "cell_type": "code",
   "execution_count": 84,
   "metadata": {
    "autoscroll": false,
    "collapsed": false,
    "ein.hycell": false,
    "ein.tags": "worksheet-0",
    "slideshow": {
     "slide_type": "-"
    }
   },
   "outputs": [],
   "source": [
    "peak_t = komm_1_narrowed[:,0][peaks]"
   ]
  },
  {
   "cell_type": "code",
   "execution_count": 99,
   "metadata": {
    "autoscroll": false,
    "collapsed": false,
    "ein.hycell": false,
    "ein.tags": "worksheet-0",
    "slideshow": {
     "slide_type": "-"
    }
   },
   "outputs": [],
   "source": [
    "unit = SecondaryValue('f/(x2-x1)')(f=fsr, x2=(peak_t[3], 1), x1=(peak_t[1], 1))\n"
   ]
  },
  {
   "cell_type": "code",
   "execution_count": 100,
   "metadata": {
    "autoscroll": false,
    "collapsed": false,
    "ein.hycell": false,
    "ein.tags": "worksheet-0",
    "slideshow": {
     "slide_type": "-"
    }
   },
   "outputs": [
    {
     "data": {
      "text/plain": [
       "(17229482.75862069, 614595.9341925731)"
      ]
     },
     "execution_count": 100,
     "metadata": {},
     "output_type": "execute_result"
    }
   ],
   "source": [
    "unit"
   ]
  },
  {
   "cell_type": "code",
   "execution_count": 175,
   "metadata": {
    "autoscroll": false,
    "collapsed": false,
    "ein.hycell": false,
    "ein.tags": "worksheet-0",
    "slideshow": {
     "slide_type": "-"
    }
   },
   "outputs": [],
   "source": [
    "def calibrate_unit(ydata, thresh):\n",
    "    xdata = np.arange(0, len(ydata))\n",
    "    peaks, peak_info = find_peaks(ydata, height=thresh, width=1, rel_height=.5)\n",
    "\n",
    "    plt.clf()\n",
    "    plt.plot(xdata, ydata, label='Spektrum')\n",
    "    plt.plot(xdata[peaks], ydata[peaks], \"x\",\n",
    "             color='red', label='Peaks')\n",
    "    plt.xlabel('Zeit [u]')\n",
    "    plt.ylabel('Amplitude [mV]')\n",
    "    plt.legend()\n",
    "    plt.autoscale(enable=True, axis='x', tight=True)\n",
    "    plt.show()\n",
    "\n",
    "    return SecondaryValue('f/(x2-x1)')(f=fsr, x2=(peaks[1], 1), x1=(peaks[0], 1))\n",
    "\n",
    "\n"
   ]
  },
  {
   "cell_type": "code",
   "execution_count": 177,
   "metadata": {
    "autoscroll": false,
    "collapsed": false,
    "ein.hycell": false,
    "ein.tags": "worksheet-0",
    "slideshow": {
     "slide_type": "-"
    }
   },
   "outputs": [
    {
     "data": {
      "text/plain": [
       "(17229482.75862069, 614595.9341925731)"
      ]
     },
     "execution_count": 177,
     "metadata": {},
     "output_type": "execute_result"
    }
   ],
   "source": [
    "calibrate_unit(komm_1_narrowed[:,1], 120)"
   ]
  },
  {
   "cell_type": "code",
   "execution_count": 101,
   "metadata": {
    "autoscroll": false,
    "collapsed": false,
    "ein.hycell": false,
    "ein.tags": "worksheet-0",
    "slideshow": {
     "slide_type": "-"
    }
   },
   "outputs": [],
   "source": [
    "widths = peak_info['widths']\n",
    "width = widths.mean()\n",
    "d_width = widths.std()/2"
   ]
  },
  {
   "cell_type": "code",
   "execution_count": 102,
   "metadata": {
    "autoscroll": false,
    "collapsed": false,
    "ein.hycell": false,
    "ein.tags": "worksheet-0",
    "slideshow": {
     "slide_type": "-"
    }
   },
   "outputs": [
    {
     "data": {
      "text/plain": [
       "(4.7190589321125325, 0.30525965381031983)"
      ]
     },
     "execution_count": 102,
     "metadata": {},
     "output_type": "execute_result"
    }
   ],
   "source": [
    "width, d_width"
   ]
  },
  {
   "cell_type": "code",
   "execution_count": 103,
   "metadata": {
    "autoscroll": false,
    "collapsed": false,
    "ein.hycell": false,
    "ein.tags": "worksheet-0",
    "slideshow": {
     "slide_type": "-"
    }
   },
   "outputs": [],
   "source": [
    "w = SecondaryValue('f*u')(f=(width, d_width), u=unit)"
   ]
  },
  {
   "cell_type": "code",
   "execution_count": 104,
   "metadata": {
    "autoscroll": false,
    "collapsed": false,
    "ein.hycell": false,
    "ein.tags": "worksheet-0",
    "slideshow": {
     "slide_type": "-"
    }
   },
   "outputs": [
    {
     "data": {
      "text/plain": [
       "(81306944.50774784, 6006147.334780343)"
      ]
     },
     "execution_count": 104,
     "metadata": {},
     "output_type": "execute_result"
    }
   ],
   "source": [
    "w"
   ]
  },
  {
   "cell_type": "code",
   "execution_count": 105,
   "metadata": {
    "autoscroll": false,
    "collapsed": false,
    "ein.hycell": false,
    "ein.tags": "worksheet-0",
    "slideshow": {
     "slide_type": "-"
    }
   },
   "outputs": [],
   "source": [
    "fin = SecondaryValue('fsr/fw')(fsr=fsr, fw=w)"
   ]
  },
  {
   "cell_type": "code",
   "execution_count": 106,
   "metadata": {
    "autoscroll": false,
    "collapsed": false,
    "ein.hycell": false,
    "ein.tags": "worksheet-0",
    "slideshow": {
     "slide_type": "-"
    }
   },
   "outputs": [
    {
     "data": {
      "text/plain": [
       "(24.581172150793947, 1.9940442123908217)"
      ]
     },
     "execution_count": 106,
     "metadata": {},
     "output_type": "execute_result"
    }
   ],
   "source": [
    "fin"
   ]
  },
  {
   "cell_type": "code",
   "execution_count": 108,
   "metadata": {
    "autoscroll": false,
    "collapsed": false,
    "ein.hycell": false,
    "ein.tags": "worksheet-0",
    "slideshow": {
     "slide_type": "-"
    }
   },
   "outputs": [],
   "source": [
    "plt.clf()\n",
    "p1_fixed = komm_p1-komm_p1.min()\n",
    "plt.plot(np.arange(0, len(komm_p1)), p1_fixed/p1_fixed.max())\n",
    "plt.plot(np.arange(0, len(komm_p2)), komm_p2/komm_p2.max())\n",
    "plt.show()"
   ]
  },
  {
   "cell_type": "code",
   "execution_count": 118,
   "metadata": {
    "autoscroll": false,
    "collapsed": false,
    "ein.hycell": false,
    "ein.tags": "worksheet-0",
    "slideshow": {
     "slide_type": "-"
    }
   },
   "outputs": [],
   "source": [
    "%matplotlib qt5\n",
    "plt.plot(*komm_1.T, label='Spektrum')\n",
    "plt.plot(komm_1[:,0][all_peaks], komm_1[:,1][all_peaks], \"x\",\n",
    "         color='red', label='Peaks')\n",
    "plt.xlabel('Zeit [u]')\n",
    "plt.ylabel('Amplitude [mV]')\n",
    "plt.legend()\n",
    "plt.autoscale(enable=True, axis='x', tight=True)\n",
    "plt.show()"
   ]
  },
  {
   "cell_type": "code",
   "execution_count": 110,
   "metadata": {
    "autoscroll": false,
    "collapsed": false,
    "ein.hycell": false,
    "ein.tags": "worksheet-0",
    "slideshow": {
     "slide_type": "-"
    }
   },
   "outputs": [],
   "source": [
    "dists = all_peaks[1::2] - all_peaks[0::2]\n",
    "dist = dists.mean(), dists.std()/np.sqrt(len(dists))\n",
    "real_dist = SecondaryValue('u*d')(u=unit, d=dist)"
   ]
  },
  {
   "cell_type": "code",
   "execution_count": 111,
   "metadata": {
    "autoscroll": false,
    "collapsed": false,
    "ein.hycell": false,
    "ein.tags": "worksheet-0",
    "slideshow": {
     "slide_type": "-"
    }
   },
   "outputs": [
    {
     "data": {
      "text/plain": [
       "(647828551.724138, 44686897.20641578)"
      ]
     },
     "execution_count": 111,
     "metadata": {},
     "output_type": "execute_result"
    }
   ],
   "source": [
    "real_dist"
   ]
  },
  {
   "cell_type": "code",
   "execution_count": 112,
   "metadata": {
    "autoscroll": false,
    "collapsed": false,
    "ein.hycell": false,
    "ein.tags": "worksheet-0",
    "slideshow": {
     "slide_type": "-"
    }
   },
   "outputs": [],
   "source": [
    "L = SecondaryValue('c/(2*d)')(c=299792458, d=real_dist)"
   ]
  },
  {
   "cell_type": "code",
   "execution_count": 113,
   "metadata": {
    "autoscroll": false,
    "collapsed": false,
    "ein.hycell": false,
    "ein.tags": "worksheet-0",
    "slideshow": {
     "slide_type": "-"
    }
   },
   "outputs": [
    {
     "data": {
      "text/plain": [
       "(0.23138256040284816, 0.01596065604790186)"
      ]
     },
     "execution_count": 113,
     "metadata": {},
     "output_type": "execute_result"
    }
   ],
   "source": [
    "L"
   ]
  },
  {
   "cell_type": "code",
   "execution_count": 53,
   "metadata": {
    "autoscroll": false,
    "collapsed": false,
    "ein.hycell": false,
    "ein.tags": "worksheet-0",
    "slideshow": {
     "slide_type": "-"
    }
   },
   "outputs": [
    {
     "data": {
      "text/plain": [
       "(21594231.03448276, 1301824.6072136145)"
      ]
     },
     "execution_count": 53,
     "metadata": {},
     "output_type": "execute_result"
    }
   ],
   "source": [
    "real_dist"
   ]
  },
  {
   "cell_type": "code",
   "execution_count": 54,
   "metadata": {
    "autoscroll": false,
    "collapsed": false,
    "ein.hycell": false,
    "ein.tags": "worksheet-0",
    "slideshow": {
     "slide_type": "-"
    }
   },
   "outputs": [
    {
     "data": {
      "text/plain": [
       "(37.6, 2.2199099080818567)"
      ]
     },
     "execution_count": 54,
     "metadata": {},
     "output_type": "execute_result"
    }
   ],
   "source": [
    "dist"
   ]
  },
  {
   "cell_type": "code",
   "execution_count": 56,
   "metadata": {
    "autoscroll": false,
    "collapsed": false,
    "ein.hycell": false,
    "ein.tags": "worksheet-0",
    "slideshow": {
     "slide_type": "-"
    }
   },
   "outputs": [
    {
     "data": {
      "text/plain": [
       "array([ 88, 204, 313, 443, 574])"
      ]
     },
     "execution_count": 56,
     "metadata": {},
     "output_type": "execute_result"
    }
   ],
   "source": [
    "all_peaks[1::2]"
   ]
  },
  {
   "cell_type": "code",
   "execution_count": 178,
   "metadata": {
    "autoscroll": false,
    "collapsed": false,
    "ein.hycell": false,
    "ein.tags": "worksheet-0",
    "slideshow": {
     "slide_type": "-"
    }
   },
   "outputs": [],
   "source": [
    "def find_distances(ydata, thresh, num_peaks, new_unit):\n",
    "    all_peaks, _ = find_peaks(ydata, height=thresh, distance=10)\n",
    "\n",
    "    num_batches = len(all_peaks) / num_peaks\n",
    "    peak_batches = np.split(all_peaks, num_batches)\n",
    "\n",
    "    \n",
    "    xdata = np.arange(0, len(ydata))\n",
    "    plt.clf()\n",
    "    plt.plot(xdata, ydata, label='Spektrum')\n",
    "    plt.plot(xdata[all_peaks], ydata[all_peaks], \"x\",\n",
    "            color='red', label='Peaks')\n",
    "    plt.xlabel('Zeit [u]')\n",
    "    plt.ylabel('Amplitude [mV]')\n",
    "    plt.legend()\n",
    "    plt.autoscale(enable=True, axis='x', tight=True)\n",
    "    plt.show()\n",
    "    \n",
    "    dists = np.concatenate([d[1:] - d[:-1] for d in peak_batches])\n",
    "    dist = dists.mean(), dists.std()/np.sqrt(len(dists))\n",
    "    return SecondaryValue('u*d')(u=new_unit, d=dist)\n",
    "mode_dist = SecondaryValue('c/(2*L)', defaults=dict(c=29979245800))    "
   ]
  },
  {
   "cell_type": "code",
   "execution_count": 186,
   "metadata": {
    "autoscroll": false,
    "collapsed": false,
    "ein.hycell": false,
    "ein.tags": "worksheet-0",
    "slideshow": {
     "slide_type": "-"
    }
   },
   "outputs": [],
   "source": [
    "off_1 = np.loadtxt('../messungen/Boettcher_Matthes/FSR-Messungen/offener_HeNe/Waveform.txt',\n",
    "            skiprows=5)\n",
    "unit_1 = calibrate_unit(off_1, 79)\n"
   ]
  },
  {
   "cell_type": "code",
   "execution_count": 187,
   "metadata": {
    "autoscroll": false,
    "collapsed": false,
    "ein.hycell": false,
    "ein.tags": "worksheet-0",
    "slideshow": {
     "slide_type": "-"
    }
   },
   "outputs": [
    {
     "data": {
      "text/plain": [
       "(187973102.89389068, 12894642.34716403)"
      ]
     },
     "execution_count": 187,
     "metadata": {},
     "output_type": "execute_result"
    }
   ],
   "source": [
    "find_distances(off_1, 50, 3, unit_1)\n"
   ]
  },
  {
   "cell_type": "code",
   "execution_count": 163,
   "metadata": {
    "autoscroll": false,
    "collapsed": false,
    "ein.hycell": false,
    "ein.tags": "worksheet-0",
    "slideshow": {
     "slide_type": "-"
    }
   },
   "outputs": [
    {
     "data": {
      "text/plain": [
       "(187370286.25, 1171064.2890625)"
      ]
     },
     "execution_count": 163,
     "metadata": {},
     "output_type": "execute_result"
    }
   ],
   "source": [
    "mode_dist(L=(80,.5))"
   ]
  },
  {
   "cell_type": "code",
   "execution_count": 190,
   "metadata": {
    "autoscroll": false,
    "collapsed": false,
    "ein.hycell": false,
    "ein.tags": "worksheet-0",
    "slideshow": {
     "slide_type": "-"
    }
   },
   "outputs": [
    {
     "data": {
      "text/plain": [
       "(278877209.3023256, 10543335.772201253)"
      ]
     },
     "execution_count": 190,
     "metadata": {},
     "output_type": "execute_result"
    }
   ],
   "source": [
    "off_2 = np.loadtxt('../messungen/Boettcher_Matthes/FSR-Messungen/offener_HeNe/res_laenge_60cm.txt',\n",
    "            skiprows=5)\n",
    "unit_2 = calibrate_unit(off_2, 80)\n",
    "find_distances(off_2, 46, 2, unit_2)\n"
   ]
  },
  {
   "cell_type": "code",
   "execution_count": 191,
   "metadata": {
    "autoscroll": false,
    "collapsed": false,
    "ein.hycell": false,
    "ein.tags": "worksheet-0",
    "slideshow": {
     "slide_type": "-"
    }
   },
   "outputs": [
    {
     "data": {
      "text/plain": [
       "(249827048.33333334, 2081892.0694444445)"
      ]
     },
     "execution_count": 191,
     "metadata": {},
     "output_type": "execute_result"
    }
   ],
   "source": [
    "mode_dist(L=(60,.5))\n"
   ]
  }
 ],
 "metadata": {
  "kernelspec": {
   "argv": [
    "/usr/bin/python3",
    "-m",
    "ipykernel_launcher",
    "-f",
    "{connection_file}"
   ],
   "display_name": "Python 3",
   "env": null,
   "interrupt_mode": "signal",
   "language": "python",
   "metadata": null,
   "name": "python3"
  },
  "name": "FPI.ipynb"
 },
 "nbformat": 4,
 "nbformat_minor": 2
}
