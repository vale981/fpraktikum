{
 "cells": [
  {
   "cell_type": "code",
   "execution_count": 11,
   "metadata": {
    "autoscroll": false,
    "collapsed": false,
    "ein.hycell": false,
    "ein.tags": "worksheet-0",
    "slideshow": {
     "slide_type": "-"
    }
   },
   "outputs": [],
   "source": [
    "import matplotlib.pyplot as plt\n",
    "import numpy as np\n",
    "from SecondaryValue import SecondaryValue\n",
    "from fillplots import plot_regions"
   ]
  },
  {
   "cell_type": "code",
   "execution_count": 2,
   "metadata": {
    "autoscroll": false,
    "collapsed": false,
    "ein.hycell": false,
    "ein.tags": "worksheet-0",
    "slideshow": {
     "slide_type": "-"
    }
   },
   "outputs": [],
   "source": [
    "L = 500  # mm\n",
    "R = 1000  # mm"
   ]
  },
  {
   "cell_type": "code",
   "execution_count": 6,
   "metadata": {
    "autoscroll": false,
    "collapsed": false,
    "ein.hycell": false,
    "ein.tags": "worksheet-0",
    "slideshow": {
     "slide_type": "-"
    }
   },
   "outputs": [],
   "source": [
    "g = SecondaryValue('1 - L/R', defaults=dict(R=R))"
   ]
  },
  {
   "cell_type": "code",
   "execution_count": 9,
   "metadata": {
    "autoscroll": false,
    "collapsed": false,
    "ein.hycell": false,
    "ein.tags": "worksheet-0",
    "slideshow": {
     "slide_type": "-"
    }
   },
   "outputs": [
    {
     "data": {
      "text/plain": [
       "0.5"
      ]
     },
     "execution_count": 9,
     "metadata": {},
     "output_type": "execute_result"
    }
   ],
   "source": [
    "g(L=L)"
   ]
  },
  {
   "cell_type": "code",
   "execution_count": 72,
   "metadata": {
    "autoscroll": false,
    "collapsed": false,
    "ein.hycell": false,
    "ein.tags": "worksheet-0",
    "slideshow": {
     "slide_type": "-"
    }
   },
   "outputs": [
    {
     "data": {
      "image/png": "[encoded data removed]",
      "text/plain": [
       "<Figure size 432x288 with 1 Axes>"
      ]
     },
     "metadata": {},
     "output_type": "display_data"
    }
   ],
   "source": [
    "gsh = np.linspace(.01, 10, 1000)\n",
    "fig = plt.figure()\n",
    "ax = plt.subplot(111)\n",
    "\n",
    "ax.fill_between(gsh, 1/gsh, alpha=0.3, label='Stabilitaetsbereich')\n",
    "ax.set_ylim([0,2])\n",
    "ax.set_xlim([-.1,2])\n",
    "ax.set_xlabel('$g_1$')\n",
    "ax.set_ylabel('$g_2$')\n",
    "ls = np.linspace(0, R, 100)\n",
    "ax.plot(np.ones_like(ls), g(L=[ls]), color='orange', linewidth=5, label='g fuer $L\\in (0,1)$m')\n",
    "ax.legend()\n",
    "plt.show()\n",
    "fig.savefig('stabdiag.pdf')"
   ]
  },
  {
   "cell_type": "code",
   "execution_count": 33,
   "metadata": {
    "autoscroll": false,
    "collapsed": false,
    "ein.hycell": false,
    "ein.tags": "worksheet-0",
    "slideshow": {
     "slide_type": "-"
    }
   },
   "outputs": [
    {
     "data": {
      "text/plain": [
       "array([1.        , 0.98989899, 0.97979798, 0.96969697, 0.95959596,\n       0.94949495, 0.93939394, 0.92929293, 0.91919192, 0.90909091,\n       0.8989899 , 0.88888889, 0.87878788, 0.86868687, 0.85858586,\n       0.84848485, 0.83838384, 0.82828283, 0.81818182, 0.80808081,\n       0.7979798 , 0.78787879, 0.77777778, 0.76767677, 0.75757576,\n       0.74747475, 0.73737374, 0.72727273, 0.71717172, 0.70707071,\n       0.6969697 , 0.68686869, 0.67676768, 0.66666667, 0.65656566,\n       0.64646465, 0.63636364, 0.62626263, 0.61616162, 0.60606061,\n       0.5959596 , 0.58585859, 0.57575758, 0.56565657, 0.55555556,\n       0.54545455, 0.53535354, 0.52525253, 0.51515152, 0.50505051,\n       0.49494949, 0.48484848, 0.47474747, 0.46464646, 0.45454545,\n       0.44444444, 0.43434343, 0.42424242, 0.41414141, 0.4040404 ,\n       0.39393939, 0.38383838, 0.37373737, 0.36363636, 0.35353535,\n       0.34343434, 0.33333333, 0.32323232, 0.31313131, 0.3030303 ,\n       0.29292929, 0.28282828, 0.27272727, 0.26262626, 0.25252525,\n       0.24242424, 0.23232323, 0.22222222, 0.21212121, 0.2020202 ,\n       0.19191919, 0.18181818, 0.17171717, 0.16161616, 0.15151515,\n       0.14141414, 0.13131313, 0.12121212, 0.11111111, 0.1010101 ,\n       0.09090909, 0.08080808, 0.07070707, 0.06060606, 0.05050505,\n       0.04040404, 0.03030303, 0.02020202, 0.01010101, 0.        ])"
      ]
     },
     "execution_count": 33,
     "metadata": {},
     "output_type": "execute_result"
    }
   ],
   "source": [
    "g(L=[ls])"
   ]
  },
  {
   "cell_type": "code",
   "execution_count": null,
   "metadata": {
    "autoscroll": false,
    "collapsed": false,
    "ein.hycell": false,
    "ein.tags": "worksheet-0",
    "slideshow": {
     "slide_type": "-"
    }
   },
   "outputs": [],
   "source": []
  }
 ],
 "metadata": {
  "kernelspec": {
   "argv": [
    "python",
    "-m",
    "ipykernel_launcher",
    "-f",
    "{connection_file}"
   ],
   "display_name": "Python 3",
   "env": null,
   "interrupt_mode": "signal",
   "language": "python",
   "metadata": null,
   "name": "python3"
  },
  "name": "Untitled.ipynb"
 },
 "nbformat": 4,
 "nbformat_minor": 2
}
